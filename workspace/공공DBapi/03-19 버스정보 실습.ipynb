{
 "cells": [
  {
   "cell_type": "code",
   "execution_count": 192,
   "metadata": {},
   "outputs": [],
   "source": [
    "import urllib.request as req\n",
    "from bs4 import BeautifulSoup as bs\n",
    "import pandas as pd\n",
    "import pymysql\n",
    "import json\n",
    "import urllib.parse"
   ]
  },
  {
   "cell_type": "code",
   "execution_count": 193,
   "metadata": {},
   "outputs": [],
   "source": [
    "key = \"PLne6yt5IwfGITmjviWt3jgM6Q9gEeTGcZAu5KSq6yrlhLJedSV56NzrMxChqpwf7usIHfQtO%2BpvJYInNXRTyw%3D%3D\""
   ]
  },
  {
   "cell_type": "code",
   "execution_count": 194,
   "metadata": {},
   "outputs": [
    {
     "data": {
      "text/plain": [
       "('../data/공공DB/버스노선정보.xml', <http.client.HTTPMessage at 0x2b731de1d30>)"
      ]
     },
     "execution_count": 194,
     "metadata": {},
     "output_type": "execute_result"
    }
   ],
   "source": [
    "# 노선 정보 xml 파일 수집\n",
    "busNo = input(\"busNo\")\n",
    "url1 = \"http://apis.data.go.kr/6260000/BusanBIMS/busInfo\"\n",
    "params1 = f\"?serviceKey={key}&lineno={busNo}\"\n",
    "save_path1 = \"../data/공공DB/버스노선정보.xml\"\n",
    "req.urlretrieve(url1+params1, save_path1)"
   ]
  },
  {
   "cell_type": "code",
   "execution_count": 195,
   "metadata": {},
   "outputs": [
    {
     "name": "stdout",
     "output_type": "stream",
     "text": [
      "5200138000\n"
     ]
    }
   ],
   "source": [
    "# xml 파일 파싱\n",
    "xml = open(save_path1, \"r\", encoding=\"utf-8\")\n",
    "soup = bs(xml, \"xml\")\n",
    "\n",
    "# 버스 번호의 노선 ID 추출\n",
    "items = soup.find_all(\"item\")\n",
    "buslinenum = \"\"\n",
    "lineid = \"\"\n",
    "for item in items:\n",
    "    buslinenum = item.find(\"buslinenum\").text\n",
    "    if buslinenum == str(busNo):\n",
    "        lineid = item.find(\"lineid\").text\n",
    "print(lineid)"
   ]
  },
  {
   "cell_type": "code",
   "execution_count": 196,
   "metadata": {},
   "outputs": [
    {
     "data": {
      "text/plain": [
       "('../data/공공DB/노선 정류소 조회 정보.xml', <http.client.HTTPMessage at 0x2b7319fc1d0>)"
      ]
     },
     "execution_count": 196,
     "metadata": {},
     "output_type": "execute_result"
    }
   ],
   "source": [
    "# 노선 정류소 정보 xml 파일 수집\n",
    "url2 = \"http://apis.data.go.kr/6260000/BusanBIMS/busInfoByRouteId\"\n",
    "params2 = f\"?serviceKey={key}&lineid={lineid}\"\n",
    "save_path2 = \"../data/공공DB/노선 정류소 조회 정보.xml\"\n",
    "\n",
    "req.urlretrieve(url2+params2, save_path2)"
   ]
  },
  {
   "cell_type": "code",
   "execution_count": 197,
   "metadata": {},
   "outputs": [
    {
     "name": "stdout",
     "output_type": "stream",
     "text": [
      "('신평배고개', '35.0962720', '128.9780864')\n",
      "('사하구청.당리역', '35.1040928', '128.9725056')\n",
      "('엄궁동주민센터', '35.1307136', '128.9717504')\n",
      "('주물공단입구', '35.1512800', '128.9782400')\n",
      "('주례역', '35.1505824', '129.0034688')\n",
      "('가야역', '35.1565632', '129.0456448')\n",
      "('중앙시장', '35.1433024', '129.0591104')\n",
      "('문현현대아파트', '35.1442208', '129.0766336')\n",
      "('대연SK뷰아파트', '35.1394880', '129.0800000')\n",
      "('유엔공원.부산문화회관', '35.1265056', '129.0955008')\n",
      "('신선대CNG충전소', '35.1139648', '129.0963456')\n",
      "('대연역.부산은행', '35.1334816', '129.0920704')\n",
      "('문현현대아파트', '35.1439360', '129.0769152')\n",
      "('중앙시장', '35.1428160', '129.0592768')\n",
      "('부산진우체국(가야1치안센터)', '35.1550816', '129.0373632')\n",
      "('개금역', '35.1531968', '129.0244352')\n",
      "('감전교차로', '35.1427808', '128.9697664')\n",
      "('에덴공원', '35.1106496', '128.9654272')\n",
      "('사남신익아파트', '35.0966656', '128.9838848')\n",
      "('장림', '35.0849568', '128.9792512')\n",
      "('기점', '35.0847744', '128.9796352')\n"
     ]
    }
   ],
   "source": [
    "# 노선 정류소 정보 xml 파일 처리\n",
    "xml = open(save_path2, \"r\", encoding=\"utf-8\")\n",
    "soup = bs(xml, \"xml\")\n",
    "items = soup.find_all(\"item\")\n",
    "stopNames = []\n",
    "for item in items:\n",
    "    direction = item.find(\"direction\")\n",
    "    if direction != None:\n",
    "        bstopnm = item.find(\"bstopnm\").text\n",
    "        lat = item.find(\"lat\").text\n",
    "        lin =  item.find(\"lin\").text\n",
    "        stopNames.append(bstopnm)\n",
    "        print((bstopnm, lat, lin))"
   ]
  },
  {
   "cell_type": "code",
   "execution_count": 198,
   "metadata": {},
   "outputs": [],
   "source": [
    "# 정류소 정보 조회 xml 파일 수집\n",
    "url3 = \"http://apis.data.go.kr/6260000/BusanBIMS/busStopList\"\n",
    "params3 = f\"?serviceKey={key}&bstopnm={urllib.parse.quote(stopNames[0])}\"\n",
    "save_path3 = \"../data/공공DB/정류소정보조회.xml\"\n",
    "\n",
    "res = req.urlretrieve(url3+params3, save_path3)"
   ]
  },
  {
   "cell_type": "code",
   "execution_count": 199,
   "metadata": {},
   "outputs": [
    {
     "name": "stdout",
     "output_type": "stream",
     "text": [
      "['188090203', '188090402']\n"
     ]
    }
   ],
   "source": [
    "# 정류소 정보 조회 xml 파일 처리\n",
    "xml = open(save_path3, \"r\", encoding=\"utf-8\")\n",
    "soup = bs(xml, \"xml\")\n",
    "stopIDs = []\n",
    "for item in soup.find_all(\"item\"):\n",
    "    stoptype = item.find(\"stoptype\").text\n",
    "    if stoptype == \"일반\":\n",
    "        bstopid = item.find(\"bstopid\").text\n",
    "        stopIDs.append(bstopid)\n",
    "\n",
    "print(stopIDs)"
   ]
  },
  {
   "cell_type": "code",
   "execution_count": 200,
   "metadata": {},
   "outputs": [
    {
     "name": "stdout",
     "output_type": "stream",
     "text": [
      "신평배고개 정류장의 138번 버스 도착까지 -분 전이며, 남은 정류장은 -곳입니다.\n",
      "신평배고개 정류장의 138번 버스 도착까지 3분 전이며, 남은 정류장은 2곳입니다.\n"
     ]
    }
   ],
   "source": [
    "# 정류소 도착정보 조회 xml 파일 수집\n",
    "for stopID in stopIDs:\n",
    "    url4 = \"http://apis.data.go.kr/6260000/BusanBIMS/stopArrByBstopid\"\n",
    "    params4 = f\"?serviceKey={key}&bstopid={stopID}\"\n",
    "    xml = req.urlopen(url4+params4).read().decode(\"utf-8\")\n",
    "    soup = bs(xml, \"xml\")\n",
    "    for item in soup.find_all(\"item\"):\n",
    "        nodenm = item.find(\"nodenm\").text\n",
    "        lineno = item.find(\"lineno\").text\n",
    "        if (lineno == busNo):\n",
    "            try:\n",
    "                min1 = item.find(\"min1\").text\n",
    "            except:\n",
    "                min1 = \"-\"\n",
    "            try:\n",
    "                station1 = item.find(\"station1\").text\n",
    "            except:\n",
    "                station1 = \"-\"\n",
    "            print(f\"{nodenm} 정류장의 {lineno}번 버스 도착까지 {min1}분 전이며, 남은 정류장은 {station1}곳입니다.\")\n"
   ]
  }
 ],
 "metadata": {
  "kernelspec": {
   "display_name": "base",
   "language": "python",
   "name": "python3"
  },
  "language_info": {
   "codemirror_mode": {
    "name": "ipython",
    "version": 3
   },
   "file_extension": ".py",
   "mimetype": "text/x-python",
   "name": "python",
   "nbconvert_exporter": "python",
   "pygments_lexer": "ipython3",
   "version": "3.12.7"
  }
 },
 "nbformat": 4,
 "nbformat_minor": 2
}
