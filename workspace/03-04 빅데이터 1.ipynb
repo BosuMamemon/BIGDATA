{
 "cells": [
  {
   "cell_type": "code",
   "execution_count": null,
   "metadata": {},
   "outputs": [],
   "source": [
    "import urllib.request\n",
    "\n",
    "# urlopen() 함수로 네이버의 메인 페이지를 읽습니다.\n",
    "res=urllib.request.urlopen('http://www.naver.com'/)\n",
    "\n",
    "# 응답된 객체의 타입 출력\n",
    "print(type(res))\n",
    "\n",
    "# 응답되면 200 출력 404는 페이지 없음\n",
    "print(res.status)\n",
    "\n",
    "# 버전정보 : 11버전\n",
    "print(res.version)\n",
    "\n",
    "# 응답된 객체의 상태 메시지 출력\n",
    "print(res.msg)\n",
    "\n",
    "# 응답된 객체의 헤더 정보 출력\n",
    "print(res.reason)\n",
    "\n",
    "# 헤더 정보 출력\n",
    "headers = res.getheaders()\n",
    "for header in headers:\n",
    "    print(header)\n",
    "\n",
    "# 바디 정보 출력\n",
    "body = res.read()\n",
    "print(body.decode('utf-8'))\n",
    "\n"
   ]
  },
  {
   "cell_type": "code",
   "execution_count": null,
   "metadata": {},
   "outputs": [],
   "source": [
    "\n",
    "# 한줄로 작성 (바로 호출)\n",
    "from urllib.request import urlopen\n",
    "res = urlopen('http://www.naver.com'/)\n",
    "print(res.read().decode('utf-8'))\n",
    "\n"
   ]
  },
  {
   "cell_type": "code",
   "execution_count": null,
   "metadata": {},
   "outputs": [],
   "source": [
    "# 엘리어스를 활용하여 간단히 작성\n",
    "import urllib.request as req\n",
    "res = req.urlopen('http://www.naver.com'/)\n",
    "print(res.read().decode('utf-8'))\n",
    "\n"
   ]
  },
  {
   "cell_type": "code",
   "execution_count": null,
   "metadata": {},
   "outputs": [],
   "source": [
    "# 예외 처리\n",
    "# urlerror와 httperror\n",
    "from urllib.error import URLError, HTTPError\n",
    "try:\n",
    "    res = req.urlopen('http://www.naver.com/none') \n",
    "except HTTPError as e:\n",
    "    print(e.code)\n",
    "    print(e.reason)\n",
    "    print(\"HTTPError\")\n",
    "except URLError as e:\n",
    "    print(e.reason)\n",
    "    print(\"URLError\")\n",
    "else:\n",
    "    print('Success')\n",
    "\n"
   ]
  },
  {
   "cell_type": "code",
   "execution_count": null,
   "metadata": {},
   "outputs": [],
   "source": [
    "res = req.urlopen('http://www.naver.com'/)\n",
    "print(res.read().decode('utf-8'))\n",
    "\n"
   ]
  },
  {
   "cell_type": "code",
   "execution_count": null,
   "metadata": {},
   "outputs": [],
   "source": [
    "url = 'http://unico2013.dothome.co.kr/crawling/tagstyle.html'\n",
    "res = req.urlopen(url)\n",
    "print(res.read().decode('utf-8'))\n",
    "\n"
   ]
  },
  {
   "cell_type": "code",
   "execution_count": null,
   "metadata": {},
   "outputs": [],
   "source": [
    "# 인코딩 정보를 모를 때\n",
    "url = 'http://www.naver.com/'\n",
    "res = req.urlopen(url)\n",
    "a = res.info()\n",
    "print(type(a))\n",
    "\n",
    "# encoding 정보 얻기\n",
    "encoding = a.get_content_charset()\n",
    "\n",
    "print(encoding)\n",
    "print(res.read().decode(encoding))\n",
    "\n",
    "\n"
   ]
  },
  {
   "cell_type": "code",
   "execution_count": null,
   "metadata": {},
   "outputs": [],
   "source": [
    "# 다음 싸이트로 연습해보자\n",
    "url = 'http://www.daum.net/'\n",
    "res = req.urlopen(url)\n",
    "a = res.info()\n",
    "print(type(a))\n",
    "\n",
    "# 다음은 못 읽어오게 막는 것 같음. 그래서 none이 출력됨\n",
    "encoding = a.get_content_charset()\n",
    "print(encoding)\n",
    "#print(res.read().decode(encoding))\n",
    "\n",
    "# 하지만 다음은 utf-8로 인코딩 되어있으므로 아래와 같이 출력하면됨\n",
    "print(res.read().decode('utf-8'))\n"
   ]
  },
  {
   "cell_type": "code",
   "execution_count": null,
   "metadata": {},
   "outputs": [],
   "source": [
    "# parse 모듈을 사용하여 url을 분리\n",
    "import urllib.parse\n",
    "url1 = 'http://www.example.com/query?name=김철수&age=30'\n",
    "url2 = 'http://www.abc.com/?name=박문석&age=30'\n",
    "data1 = urllib.parse.urlparse(url1)\n",
    "print(data1)\n",
    "data2 = urllib.parse.urlparse(url2)\n",
    "print(data2)\n",
    "\n",
    "scheme, netloc, path, params, query, fragment에 각각 나누어서 저장됨."
   ]
  }
 ],
 "metadata": {
  "language_info": {
   "name": "python"
  }
 },
 "nbformat": 4,
 "nbformat_minor": 2
}
