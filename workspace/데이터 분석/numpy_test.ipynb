{
 "cells": [
  {
   "cell_type": "code",
   "execution_count": 2,
   "id": "f379f78d",
   "metadata": {},
   "outputs": [
    {
     "name": "stdout",
     "output_type": "stream",
     "text": [
      "Requirement already satisfied: numpy in c:\\users\\it\\anaconda3\\lib\\site-packages (1.26.4)\n"
     ]
    }
   ],
   "source": [
    "!pip install numpy\n",
    "import numpy as np"
   ]
  },
  {
   "cell_type": "code",
   "execution_count": 3,
   "id": "b8dfa4b2",
   "metadata": {},
   "outputs": [
    {
     "name": "stdout",
     "output_type": "stream",
     "text": [
      "[1 2 3 4 5]\n",
      "\n",
      "[[1 2 3]\n",
      " [4 5 6]]\n",
      "\n",
      "[[[ 1  2  3]\n",
      "  [ 4  5  6]]\n",
      "\n",
      " [[ 7  8  9]\n",
      "  [10 11 12]]]\n",
      "\n"
     ]
    }
   ],
   "source": [
    "arr = np.array([1, 2, 3, 4, 5])\n",
    "print(arr)\n",
    "print()\n",
    "\n",
    "arr2 = np.array([[1, 2, 3], [4, 5, 6]])\n",
    "print(arr2)\n",
    "print()\n",
    "\n",
    "arr3 = np.array([[[1, 2, 3], [4, 5, 6]], [[7, 8, 9], [10, 11, 12]]])\n",
    "print(arr3)\n",
    "print()"
   ]
  },
  {
   "cell_type": "code",
   "execution_count": 4,
   "id": "4473cbce",
   "metadata": {},
   "outputs": [
    {
     "name": "stdout",
     "output_type": "stream",
     "text": [
      "[[0. 0. 0.]\n",
      " [0. 0. 0.]]\n",
      "\n",
      "[[1. 1. 1.]\n",
      " [1. 1. 1.]]\n",
      "\n",
      "[[[1 1 1]\n",
      "  [1 1 1]]\n",
      "\n",
      " [[1 1 1]\n",
      "  [1 1 1]]]\n",
      "\n",
      "[[5 5 5]\n",
      " [5 5 5]]\n",
      "\n"
     ]
    }
   ],
   "source": [
    "a1 = np.zeros((2, 3))\n",
    "print(a1)\n",
    "print()\n",
    "\n",
    "a2 = np.ones((2, 3))\n",
    "print(a2)\n",
    "print()\n",
    "\n",
    "a3 = np.ones_like(arr3)\n",
    "print(a3)\n",
    "print()\n",
    "\n",
    "full_arr = np.full((2, 3), 5)\n",
    "print(full_arr)\n",
    "print()"
   ]
  },
  {
   "cell_type": "code",
   "execution_count": 5,
   "id": "3edf1027",
   "metadata": {},
   "outputs": [
    {
     "name": "stdout",
     "output_type": "stream",
     "text": [
      "[[1. 0. 0.]\n",
      " [0. 1. 0.]\n",
      " [0. 0. 1.]]\n",
      "\n",
      "[[1. 0. 0. 0.]\n",
      " [0. 1. 0. 0.]\n",
      " [0. 0. 1. 0.]]\n",
      "\n",
      "[[0. 1. 0. 0.]\n",
      " [0. 0. 1. 0.]\n",
      " [0. 0. 0. 1.]]\n",
      "\n",
      "[[0. 0. 0. 0.]\n",
      " [1. 0. 0. 0.]\n",
      " [0. 1. 0. 0.]]\n",
      "\n"
     ]
    }
   ],
   "source": [
    "a4 = np.eye(3)\n",
    "print(a4)\n",
    "print()\n",
    "\n",
    "a5 = np.eye(3, 4)\n",
    "print(a5)\n",
    "print()\n",
    "\n",
    "a6 = np.eye(3, 4, k=1)\n",
    "print(a6)\n",
    "print()\n",
    "\n",
    "a7 = np.eye(3, 4, k=-1)\n",
    "print(a7)\n",
    "print()"
   ]
  },
  {
   "cell_type": "code",
   "execution_count": 6,
   "id": "a2ac3e2b",
   "metadata": {},
   "outputs": [
    {
     "name": "stdout",
     "output_type": "stream",
     "text": [
      "[1 3 5 7 9]\n",
      "\n",
      "(array([ 0. ,  2.5,  5. ,  7.5, 10. ]), 2.5)\n",
      "\n",
      "2.0\n",
      "[ 10.          17.7827941   31.6227766   56.23413252 100.        ]\n"
     ]
    }
   ],
   "source": [
    "# 1이상 10 미만까지 2간격으로 수의 배열을 생성(range의 배열 버전)\n",
    "a = np.arange(1, 10, 2)\n",
    "print(a)\n",
    "print()\n",
    "\n",
    "# 0부터 10까지 균등한 간격으로 5개 숫자 배열 생성(endpoint=True라서 10을 포함, retstep=True라서 끝에 간격을 표시해줌)\n",
    "b = np.linspace(0, 10, 5, endpoint=True, retstep=True)\n",
    "print(b)\n",
    "print()\n",
    "\n",
    "# logspace는 linspace랑 똑같은데 대신 log값을 씀\n",
    "c = np.log10(100)\n",
    "print(c)\n",
    "c = np.logspace(np.log10(10), np.log10(100), num=5)\n",
    "print(c)"
   ]
  },
  {
   "cell_type": "code",
   "execution_count": 7,
   "id": "d1507143",
   "metadata": {},
   "outputs": [
    {
     "name": "stdout",
     "output_type": "stream",
     "text": [
      "[0.34125382 0.54195337 0.48209813 0.08825253 0.66103383 0.06279275\n",
      " 0.43659955 0.33652771 0.80037882 0.74152675]\n",
      "\n",
      "[0.5488135  0.71518937 0.60276338 0.54488318 0.4236548  0.64589411\n",
      " 0.43758721 0.891773   0.96366276 0.38344152]\n",
      "[[7 8 8]\n",
      " [9 2 6]]\n",
      "[[0.83607876 0.33739616 0.64817187]\n",
      " [0.36824154 0.95715516 0.14035078]]\n",
      "[[-0.07770457  1.08963016  0.09654267]\n",
      " [ 1.41866711  1.16827314  0.94718595]]\n"
     ]
    }
   ],
   "source": [
    "# 0부터 1까지 랜덤한 숫자 생성\n",
    "np.random.seed()\n",
    "a = np.random.random(10)\n",
    "print(a)\n",
    "print()\n",
    "\n",
    "# 시드란? 랜덤값을 정하는 씨앗값. 씨앗값이 정해지면 난수가 고정이 됨\n",
    "np.random.seed(0)\n",
    "a = np.random.random(10)\n",
    "print(a)\n",
    "b = np.random.randint(1, 10, (2, 3))    # 정수로 랜덤값 생성\n",
    "print(b)\n",
    "c = np.random.rand(2, 3)    # 균등분포 함수임\n",
    "print(c)\n",
    "d = np.random.randn(2, 3)   # 정규분포 함수임\n",
    "print(d)"
   ]
  },
  {
   "cell_type": "code",
   "execution_count": 8,
   "id": "8d6f158a",
   "metadata": {},
   "outputs": [
    {
     "name": "stdout",
     "output_type": "stream",
     "text": [
      "[1 2 3 4 5]\n",
      "ndim:  1\n",
      "shape:  (5,)\n",
      "size:  5\n",
      "dtype:  int32\n",
      "itemsize:  4\n",
      "nbytes:  20\n"
     ]
    }
   ],
   "source": [
    "# 배열 속성\n",
    "\n",
    "arr = np.arange(1, 6)\n",
    "print(arr)  # 배열\n",
    "print(\"ndim: \", arr.ndim)   # 배열 차원의 수\n",
    "print(\"shape: \", arr.shape) # 배열 각 차원의 크기를 튜플 형태로 반환\n",
    "print(\"size: \", arr.size)   # 배열 원소의 갯수\n",
    "print(\"dtype: \", arr.dtype) # 배열 내 원소의 데이터형\n",
    "print(\"itemsize: \", arr.itemsize)   # 배열 내 원소의 크기를 바이트 단위로 반환\n",
    "print(\"nbytes: \", arr.nbytes)   # 배열의 전체 바이트(size * itemsize)"
   ]
  },
  {
   "cell_type": "code",
   "execution_count": 9,
   "id": "89cb280f",
   "metadata": {},
   "outputs": [
    {
     "name": "stdout",
     "output_type": "stream",
     "text": [
      "[0 1 2 3 4 5 6 7 8 9]\n",
      "0\n",
      "1\n",
      "[100   1   2   3   4   5   6   7   8   9]\n"
     ]
    }
   ],
   "source": [
    "# 1차원 배열 인덱싱\n",
    "a1 = np.arange(10)\n",
    "print(a1)\n",
    "print(a1[0])\n",
    "print(a1[1])\n",
    "a1[0] = 100\n",
    "print(a1)"
   ]
  },
  {
   "cell_type": "code",
   "execution_count": 10,
   "id": "d9bd9948",
   "metadata": {},
   "outputs": [
    {
     "name": "stdout",
     "output_type": "stream",
     "text": [
      "[[ 0  1  2  3]\n",
      " [ 4  5  6  7]\n",
      " [ 8  9 10 11]\n",
      " [12 13 14 15]]\n",
      "1\n",
      "[ 1  5  9 13]\n",
      "[[ 1  2]\n",
      " [ 5  6]\n",
      " [ 9 10]\n",
      " [13 14]]\n",
      "[[1 2]\n",
      " [5 6]]\n",
      "[[ 0  2]\n",
      " [ 4  6]\n",
      " [ 8 10]\n",
      " [12 14]]\n",
      "[[ 3  2  1  0]\n",
      " [ 7  6  5  4]\n",
      " [11 10  9  8]\n",
      " [15 14 13 12]]\n",
      "[[ 3  1]\n",
      " [ 7  5]\n",
      " [11  9]\n",
      " [15 13]]\n"
     ]
    }
   ],
   "source": [
    "# 2차원 배열 인덱싱\n",
    "a2 = np.arange(16).reshape(4, 4)\n",
    "print(a2)\n",
    "print(a2[0, 1])\n",
    "print(a2[:, 1]) # 모든 행의 인덱스 1 열\n",
    "print(a2[:, 1:3])   # 모든 행의 인덱스 1이상 3미만 열\n",
    "print(a2[:2, 1:3])  # 인덱스 2 미만 행의 인덱스 1이상 3미만 열\n",
    "print(a2[:, :-1:2]) # 모든 행의 스텝 2의 인덱스 -1미만 열\n",
    "print(a2[:, ::-1]) # 모든 행의 스텝 -1의 모든 열\n",
    "print(a2[:, ::-2]) # 모든 행의 스텝 -2의 모든 열\n"
   ]
  },
  {
   "cell_type": "code",
   "execution_count": null,
   "id": "65a1d6c1",
   "metadata": {},
   "outputs": [
    {
     "name": "stdout",
     "output_type": "stream",
     "text": [
      "[1 2 3 4 5]\n",
      "[1 3 5]\n"
     ]
    }
   ],
   "source": [
    "a = np.arange(1, 6)\n",
    "print(a)\n",
    "b = [True, False, True, False, True]\n",
    "print(a[b]) # a[[0, 2, 4]]랑 같음"
   ]
  },
  {
   "cell_type": "code",
   "execution_count": null,
   "id": "73027247",
   "metadata": {},
   "outputs": [
    {
     "name": "stdout",
     "output_type": "stream",
     "text": [
      "[ 0  1  2  3  4  5  6  7  8  9 10]\n",
      "[ 6  7  8  9 10]\n",
      "[ 0  2  4  6  8 10]\n",
      "[6 7 8 9]\n",
      "[ 0  1  2  3  4 10]\n",
      "[ 5  6  7  8  9 10]\n"
     ]
    }
   ],
   "source": [
    "# 값 인덱싱\n",
    "a = np.arange(11)\n",
    "print(a)\n",
    "print(a[a>5])\n",
    "print(a[a%2==0])\n",
    "print(a[(a>5)&(a<10)])   # and나 or 조건식을 배열에 쓸때는 항상 괄호로 묶어줘야 함\n",
    "print(a[(a<5)|(a>9)])\n",
    "print(a[~(a<5)])    # not"
   ]
  },
  {
   "cell_type": "code",
   "execution_count": 28,
   "id": "2082d229",
   "metadata": {},
   "outputs": [
    {
     "name": "stdout",
     "output_type": "stream",
     "text": [
      "[12 14 16 18 20 22 24 26 28]\n",
      "[-10 -10 -10 -10 -10 -10 -10 -10 -10]\n",
      "[ 11  24  39  56  75  96 119 144 171]\n",
      "[11.          6.          4.33333333  3.5         3.          2.66666667\n",
      "  2.42857143  2.25        2.11111111]\n",
      "[11  6  4  3  3  2  2  2  2]\n",
      "[  1   8  27  64 125 216 343 512 729]\n",
      "[1.         1.41421356 1.73205081 2.         2.23606798 2.44948974\n",
      " 2.64575131 2.82842712 3.        ]\n"
     ]
    }
   ],
   "source": [
    "a = np.arange(1, 10)\n",
    "b = np.arange(11, 20)\n",
    "print(a+b)\n",
    "print(a-b)\n",
    "print(a*b)\n",
    "print(b/a)\n",
    "print(b//a) # 정수값만 반환\n",
    "print(a**3) # 3제곱 값을 반환\n",
    "print(np.sqrt(a))   # 제곱근"
   ]
  },
  {
   "cell_type": "code",
   "execution_count": null,
   "id": "bdada5c0",
   "metadata": {},
   "outputs": [
    {
     "name": "stdout",
     "output_type": "stream",
     "text": [
      "[[1 2 3]\n",
      " [4 5 6]\n",
      " [7 8 9]]\n",
      "[[1 4 7]\n",
      " [2 5 8]\n",
      " [3 6 9]]\n",
      "45\n",
      "[12 15 18]\n",
      "[ 6 15 24]\n",
      "9\n",
      "1\n",
      "5.0\n",
      "2.581988897471611\n"
     ]
    }
   ],
   "source": [
    "a = np.arange(1, 10).reshape(3, 3)\n",
    "print(a)\n",
    "print(a.T)  # 축 바꾸기\n",
    "print(a.sum())\n",
    "print(a.sum(axis=0))    # 열 방향으로 계산한 행값을 리턴\n",
    "print(a.sum(axis=1))    # 행 방향으로 계산한 열값을 리턴\n",
    "print(a.max())\n",
    "print(a.min())\n",
    "print(a.mean()) # 중앙값. np.mean(a)나 np.median(a)도 같음\n",
    "print(a.std())  # 표준편차"
   ]
  },
  {
   "cell_type": "code",
   "execution_count": 41,
   "id": "c32692a8",
   "metadata": {},
   "outputs": [
    {
     "name": "stdout",
     "output_type": "stream",
     "text": [
      "[[1 2 3]\n",
      " [4 5 6]\n",
      " [7 8 9]]\n",
      "[1 2 3]\n",
      "[[ 2  4  6]\n",
      " [ 5  7  9]\n",
      " [ 8 10 12]]\n",
      "\n",
      "[[101 102 103 104 105 106]\n",
      " [107 108 109 110 111 112]\n",
      " [113 114 115 116 117 118]\n",
      " [119 120 121 122 123 124]]\n",
      "[[100 100 100 100 100 100]\n",
      " [100 100 100 100 100 100]\n",
      " [100 100 100 100 100 100]\n",
      " [100 100 100 100 100 100]]\n",
      "[[101 102 103 104 105 106]\n",
      " [107 108 109 110 111 112]\n",
      " [113 114 115 116 117 118]\n",
      " [119 120 121 122 123 124]]\n"
     ]
    }
   ],
   "source": [
    "# 브로드 캐스팅(배열의 차원이 다르면 낮은 차원을 높은 차원으로 채워넣어서 계산함)\n",
    "a = np.arange(1, 10).reshape(3, 3)\n",
    "print(a)\n",
    "b = np.arange(1, 4)\n",
    "print(b)\n",
    "print(a + b)\n",
    "print()\n",
    "\n",
    "# 스칼라\n",
    "a = np.arange(1, 25).reshape(4, 6)\n",
    "print(a + 100)\n",
    "new_arr = np.full_like(a, 100)\n",
    "print(new_arr)\n",
    "print(a + new_arr)"
   ]
  },
  {
   "cell_type": "code",
   "execution_count": null,
   "id": "fcc8ec5e",
   "metadata": {},
   "outputs": [
    {
     "name": "stdout",
     "output_type": "stream",
     "text": [
      "[[1 2 3]\n",
      " [4 5 6]]\n",
      "[[1 4]\n",
      " [2 5]\n",
      " [3 6]]\n",
      "[[14 32]\n",
      " [32 77]]\n"
     ]
    }
   ],
   "source": [
    "# 행렬의 곱\n",
    "a = np.arange(1, 7).reshape(2, 3)\n",
    "b = a.T\n",
    "print(a)\n",
    "print(b)    # 행렬의 shape이 안맞춰져서 행렬곱이 안됨\n",
    "print(a.dot(b)) # 앞 행렬의 열의 갯수와 뒷 행렬의 행의 갯수가 같아야만 함(반환값: (앞 행렬의 행 갯수, 뒷 행렬 열 갯수))"
   ]
  },
  {
   "cell_type": "code",
   "execution_count": 49,
   "id": "a2a306ee",
   "metadata": {},
   "outputs": [
    {
     "name": "stdout",
     "output_type": "stream",
     "text": [
      "[1 2 3 4 5 6]\n",
      "[1 4 2 5 3 6]\n"
     ]
    }
   ],
   "source": [
    "# 배열 형태 변경... ravel함수를 쓴다고 하는데 사실 reshape을 더 많이 씀\n",
    "# 대신 reshape은 크기를 넣어줘야함 ravel은 아묻따 1차원 변경\n",
    "a = np.arange(1, 7).reshape(2, 3)\n",
    "a = a.reshape(6)\n",
    "print(a)\n",
    "\n",
    "b = np.arange(1, 7).reshape(2, 3).T\n",
    "b1 = b.ravel()\n",
    "print(b1)\n"
   ]
  },
  {
   "cell_type": "code",
   "execution_count": 51,
   "id": "d006ebaa",
   "metadata": {},
   "outputs": [
    {
     "name": "stdout",
     "output_type": "stream",
     "text": [
      "[1 2 3 4 5 6 7 8 9]\n",
      "[[1 2 3]\n",
      " [4 5 6]\n",
      " [7 8 9]]\n"
     ]
    }
   ],
   "source": [
    "# resize\n",
    "a = np.arange(1, 10)\n",
    "print(a)\n",
    "b = np.resize(a, (3, 3))\n",
    "print(b)"
   ]
  },
  {
   "cell_type": "code",
   "execution_count": 55,
   "id": "87b2994c",
   "metadata": {},
   "outputs": [
    {
     "name": "stdout",
     "output_type": "stream",
     "text": [
      "[1 2 3 4 5 6 7 8 9]\n",
      "[ 1  2  3  4  5  6  7  8  9 10]\n",
      "[ 1  2  3  4  5  6  7  8  9 10 11 12]\n"
     ]
    }
   ],
   "source": [
    "# 요소 추가\n",
    "a = np.arange(1, 10)\n",
    "print(a)\n",
    "b = np.append(a, 10)\n",
    "print(b)\n",
    "c = np.append(a, [10, 11, 12])\n",
    "print(c)"
   ]
  },
  {
   "cell_type": "code",
   "execution_count": null,
   "id": "61cadfc5",
   "metadata": {},
   "outputs": [
    {
     "name": "stdout",
     "output_type": "stream",
     "text": [
      "[[1 2 3]\n",
      " [4 5 6]\n",
      " [7 8 9]]\n",
      "[[ 1  2  3]\n",
      " [ 4  5  6]\n",
      " [ 7  8  9]\n",
      " [10 11 12]]\n",
      "[[ 1  2  3 10]\n",
      " [ 4  5  6 11]\n",
      " [ 7  8  9 12]]\n"
     ]
    }
   ],
   "source": [
    "# 2차원 요소 추가\n",
    "a = np.arange(1, 10).reshape(3, 3)\n",
    "print(a)\n",
    "b = np.append(a, [[10, 11, 12]], axis=0)    # 행 추가\n",
    "print(b)\n",
    "c = np.append(a, [[10], [11], [12]], axis=1)    # 열 추가\n",
    "print(c)"
   ]
  },
  {
   "cell_type": "code",
   "execution_count": 66,
   "id": "8808cd02",
   "metadata": {},
   "outputs": [
    {
     "name": "stdout",
     "output_type": "stream",
     "text": [
      "[[1 2 3]\n",
      " [4 5 6]\n",
      " [7 8 9]]\n",
      "[  1 100   2   3   4   5   6   7   8   9]\n",
      "[[  1   2   3]\n",
      " [100 100 100]\n",
      " [  4   5   6]\n",
      " [  7   8   9]]\n",
      "[[  1 100   2   3]\n",
      " [  4 100   5   6]\n",
      " [  7 100   8   9]]\n",
      "[[ 1  2  3]\n",
      " [11 12 13]\n",
      " [ 4  5  6]\n",
      " [ 7  8  9]]\n"
     ]
    }
   ],
   "source": [
    "# insert랑 append의 차이점\n",
    "a = np.arange(1, 10).reshape(3, 3)\n",
    "print(a)\n",
    "c = np.insert(a, 1, 100)    # a를 아묻따 1차원으로 만들어서 인덱스 1 자리에 100을 집어넣음\n",
    "print(c)\n",
    "d = np.insert(a, 1, 100, axis=0)    # 인덱스 1의 행에 full(100)을 삽입\n",
    "print(d)\n",
    "e = np.insert(a, 1, 100, axis=1)    # 인덱스 1의 열에 full(100)을 삽입\n",
    "print(e)\n",
    "f = np.insert(a, 1, [11, 12, 13], axis=0)    # 값을 직접 넣을 수도 있음\n",
    "print(f)"
   ]
  },
  {
   "cell_type": "code",
   "execution_count": 69,
   "id": "a8b7798a",
   "metadata": {},
   "outputs": [
    {
     "name": "stdout",
     "output_type": "stream",
     "text": [
      "[[1 3]\n",
      " [4 6]\n",
      " [7 9]]\n"
     ]
    }
   ],
   "source": [
    "# delete\n",
    "b = np.delete(a, 1, axis=1) # 인덱스 1의 열 삭제\n",
    "print(b)"
   ]
  },
  {
   "cell_type": "code",
   "execution_count": 75,
   "id": "0abc2a1b",
   "metadata": {},
   "outputs": [
    {
     "name": "stdout",
     "output_type": "stream",
     "text": [
      "[1 2 3 4 5]\n",
      "[ 6  7  8  9 10]\n",
      "[ 1  2  3  4  5  6  7  8  9 10]\n",
      "\n",
      "[[1 2 3]\n",
      " [4 5 6]]\n",
      "[[ 7  8  9]\n",
      " [10 11 12]]\n",
      "[[ 1  2  3]\n",
      " [ 4  5  6]\n",
      " [ 7  8  9]\n",
      " [10 11 12]]\n",
      "[[ 1  2  3  7  8  9]\n",
      " [ 4  5  6 10 11 12]]\n"
     ]
    }
   ],
   "source": [
    "# 배열 결합\n",
    "a = np.arange(1, 6)\n",
    "b = np.arange(6, 11)\n",
    "print(a)\n",
    "print(b)\n",
    "c = np.concatenate((a, b))  # 1차원 배열은 아묻따 앞에서 뒤로 쭈욱 연결\n",
    "print(c)\n",
    "print()\n",
    "\n",
    "a = np.arange(1, 7).reshape(2, 3)\n",
    "b = np.arange(7, 13).reshape(2, 3)\n",
    "c = np.concatenate((a, b))  # 2차원 배열은 axis=0일때 아래로 붙이고 axis=1일때 옆으로 붙임\n",
    "d = np.concatenate((a, b), axis=1)\n",
    "print(a)\n",
    "print(b)\n",
    "print(c)\n",
    "print(d)"
   ]
  },
  {
   "cell_type": "code",
   "execution_count": 79,
   "id": "23d9d64e",
   "metadata": {},
   "outputs": [
    {
     "name": "stdout",
     "output_type": "stream",
     "text": [
      "[[ 1  2  3  4]\n",
      " [ 5  6  7  8]\n",
      " [ 9 10 11 12]\n",
      " [13 14 15 16]]\n",
      "[array([[ 1,  2],\n",
      "       [ 5,  6],\n",
      "       [ 9, 10],\n",
      "       [13, 14]]), array([[ 3,  4],\n",
      "       [ 7,  8],\n",
      "       [11, 12],\n",
      "       [15, 16]])]\n",
      "[array([[1, 2, 3, 4],\n",
      "       [5, 6, 7, 8]]), array([[ 9, 10, 11, 12],\n",
      "       [13, 14, 15, 16]])]\n"
     ]
    }
   ],
   "source": [
    "# 배열 분리\n",
    "a = np.arange(1, 17).reshape(4, 4)\n",
    "print(a)\n",
    "b = np.hsplit(a, 2) # horizontal split\n",
    "print(b)\n",
    "c = np.vsplit(a, 2) # vertical split\n",
    "print(c)"
   ]
  }
 ],
 "metadata": {
  "kernelspec": {
   "display_name": "base",
   "language": "python",
   "name": "python3"
  },
  "language_info": {
   "codemirror_mode": {
    "name": "ipython",
    "version": 3
   },
   "file_extension": ".py",
   "mimetype": "text/x-python",
   "name": "python",
   "nbconvert_exporter": "python",
   "pygments_lexer": "ipython3",
   "version": "3.12.7"
  }
 },
 "nbformat": 4,
 "nbformat_minor": 5
}
