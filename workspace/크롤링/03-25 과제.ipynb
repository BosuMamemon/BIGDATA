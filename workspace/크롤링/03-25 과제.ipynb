{
 "cells": [
  {
   "cell_type": "markdown",
   "metadata": {},
   "source": [
    "데이터랩에서 검색어 트렌드\n",
    "2024-01-01 ~2024-12-31\n",
    "연령별, 성별, 월별 검색어 트랜드를 수집하여, csv에 저장하는 코드를 작성하여 제출하세요."
   ]
  },
  {
   "cell_type": "code",
   "execution_count": 27,
   "metadata": {},
   "outputs": [],
   "source": [
    "import os\n",
    "import sys\n",
    "import urllib.request\n",
    "import urllib.parse\n",
    "import json\n",
    "import pandas"
   ]
  },
  {
   "cell_type": "code",
   "execution_count": 21,
   "metadata": {},
   "outputs": [],
   "source": [
    "client_id = \"tVgSoOb5eAZXCc9FtW37\"\n",
    "client_secret = \"WUaCR5ONEY\""
   ]
  },
  {
   "cell_type": "code",
   "execution_count": 38,
   "metadata": {},
   "outputs": [],
   "source": [
    "keyword = input(\"검색어를 입력하세요.\")\n",
    "genders = [\"m\", \"f\"]\n",
    "ages = [\"1\", \"2\", \"3\", \"4\", \"5\", \"6\", \"7\", \"8\", \"9\", \"10\", \"11\"]\n",
    "\n",
    "result = []\n",
    "\n",
    "for g in genders:\n",
    "    for age in ages:\n",
    "        url = \"https://openapi.naver.com/v1/datalab/search\"\n",
    "        body = {\n",
    "            \"startDate\": \"2024-01-01\",\n",
    "            \"endDate\": \"2024-12-31\",\n",
    "            \"timeUnit\": \"month\",\n",
    "            \"keywordGroups\": [\n",
    "                {\"groupName\": \"검색어\", \"keywords\": [keyword]}\n",
    "            ],\n",
    "            \"gender\": g,\n",
    "            \"ages\": [age]\n",
    "        }\n",
    "        body = json.dumps(body)\n",
    "\n",
    "        request = urllib.request.Request(url)\n",
    "        request.add_header(\"X-Naver-Client-Id\",client_id)\n",
    "        request.add_header(\"X-Naver-Client-Secret\",client_secret)\n",
    "        request.add_header(\"Content-Type\",\"application/json\")\n",
    "        response = urllib.request.urlopen(request, data=body.encode(\"utf-8\"))\n",
    "        rescode = response.getcode()\n",
    "        if(rescode==200):\n",
    "            response_body = response.read()\n",
    "            jsonData = json.loads(response_body.decode(\"utf-8\"))\n",
    "            for result_item in jsonData[\"results\"]:\n",
    "                for data_item in result_item[\"data\"]:\n",
    "                    result.append((keyword, g, age, data_item[\"period\"], data_item[\"ratio\"]))\n",
    "        else:\n",
    "            print(\"Error Code:\" + rescode)\n",
    "\n",
    "\n",
    "df = pandas.DataFrame(result, columns=[\"keyword\", \"gender\", \"ages\", \"period\", \"ratio\"])\n",
    "df.to_csv(f\"../data/03-25 데이터랩_{keyword}.csv\", index=False, encoding=\"utf-8\")"
   ]
  },
  {
   "cell_type": "code",
   "execution_count": null,
   "metadata": {},
   "outputs": [],
   "source": []
  }
 ],
 "metadata": {
  "kernelspec": {
   "display_name": "base",
   "language": "python",
   "name": "python3"
  },
  "language_info": {
   "codemirror_mode": {
    "name": "ipython",
    "version": 3
   },
   "file_extension": ".py",
   "mimetype": "text/x-python",
   "name": "python",
   "nbconvert_exporter": "python",
   "pygments_lexer": "ipython3",
   "version": "3.12.7"
  }
 },
 "nbformat": 4,
 "nbformat_minor": 2
}
