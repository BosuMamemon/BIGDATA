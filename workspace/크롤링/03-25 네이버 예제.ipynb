{
 "cells": [
  {
   "cell_type": "code",
   "execution_count": 1,
   "metadata": {},
   "outputs": [],
   "source": [
    "import os\n",
    "import sys\n",
    "import urllib.parse\n",
    "import urllib.request as req\n",
    "import json\n",
    "import re\n",
    "import time\n",
    "import datetime\n",
    "import pandas as pd\n",
    "import pymysql"
   ]
  },
  {
   "cell_type": "code",
   "execution_count": 2,
   "metadata": {},
   "outputs": [],
   "source": [
    "client_id = \"3aby98TxbX87ykaP5tKI\"\n",
    "client_secret = \"j5oBzNi350\""
   ]
  },
  {
   "cell_type": "code",
   "execution_count": 3,
   "metadata": {},
   "outputs": [],
   "source": [
    "def save_db(tuple_result):\n",
    "    conn = pymysql.Connect(\n",
    "        host=\"localhost\",\n",
    "        user=\"jhm\",\n",
    "        password=\"1234\",\n",
    "        database=\"pydb\",\n",
    "        charset=\"utf8\"\n",
    "    )\n",
    "    cursor = conn.cursor()\n",
    "    cursor.executemany(\n",
    "            \"INSERT INTO naver_book VALUES(%s, %s, %s, %s, %s)\",\n",
    "            tuple_result\n",
    "        )\n",
    "    conn.commit()\n",
    "    conn.close()"
   ]
  },
  {
   "cell_type": "code",
   "execution_count": 4,
   "metadata": {},
   "outputs": [],
   "source": [
    "def save_csv(tuple_result, text, node):\n",
    "    dataframe = pd.DataFrame(tuple_result, columns=[\"cnt\", \"title\", \"description\", \"link\", \"pubDate\"])\n",
    "    dataframe.to_csv(f\"../data/{text}_naver_{node}.csv\", index=False, encoding=\"utf-8\")"
   ]
  },
  {
   "cell_type": "code",
   "execution_count": 5,
   "metadata": {},
   "outputs": [],
   "source": [
    "def get_post_data(item, json_result, tuple_result, cnt):\n",
    "    title = item[\"title\"].replace(\"<b>\", \"\").replace(\"</b>\", \"\").replace(\"&quot;\", \"\")\n",
    "    description = item[\"description\"].replace(\"<b>\", \"\").replace(\"</b>\", \"\").replace(\"&quot;\", \"\")\n",
    "    link = item[\"link\"]\n",
    "    pubDate = datetime.datetime.strptime(item[\"pubDate\"], \"%a, %d %b %Y %H:%M:%S +0900\").strftime(\"%Y-%m-%d %H:%M:%S\")  # 포매팅을 거쳐서 String으로 만들었음\n",
    "    tuple_result.append((cnt, title, description, link, pubDate))   # 튜플 리스트로 만드는 방식\n",
    "    json_result.append({\"cnt\": cnt, \"title\": title, \"description\": description, \"link\": link, \"pubDate\": pubDate})  # JSON(딕셔너리) 형으로 만드는 방식"
   ]
  },
  {
   "cell_type": "code",
   "execution_count": 6,
   "metadata": {},
   "outputs": [],
   "source": [
    "def get_request_url(url):\n",
    "    request = req.Request(url)\n",
    "    request.add_header(\"X-Naver-Client-Id\", client_id)\n",
    "    request.add_header(\"X-Naver-Client-Secret\", client_secret)\n",
    "    try:\n",
    "        response = req.urlopen(request)\n",
    "        if response.getcode() == 200:\n",
    "            print(f\"{datetime.datetime.now()} URL 요청 성공\")\n",
    "            return response.read().decode(\"utf-8\")\n",
    "        else:\n",
    "            print(response.getcode())\n",
    "    except Exception as e:\n",
    "        print(e)\n",
    "        print(f\"{datetime.datetime.now()} 요청 실패: {url}\")"
   ]
  },
  {
   "cell_type": "code",
   "execution_count": 7,
   "metadata": {},
   "outputs": [],
   "source": [
    "def get_naver_search(node, src_text, start, display):\n",
    "    url = f\"https://openapi.naver.com/v1/search/{node}?query={src_text}&start={start}&display={display}\"\n",
    "    res_decode = get_request_url(url)\n",
    "    if res_decode == None:\n",
    "        return None\n",
    "    else:\n",
    "        return json.loads(res_decode)"
   ]
  },
  {
   "cell_type": "code",
   "execution_count": 8,
   "metadata": {},
   "outputs": [],
   "source": [
    "def news_search():\n",
    "    node = \"news\"\n",
    "    text = input(\"검색어를 입력하세요.\")\n",
    "    src_text = urllib.parse.quote(text)\n",
    "    cnt = 0\n",
    "    tuple_result = []\n",
    "    json_result = []\n",
    "    json_response = get_naver_search(node, src_text, 1, 100)    # 노드, 검색어, start, display\n",
    "    while (json_response != None) and (json_response[\"display\"] != 0):\n",
    "        for item in json_response[\"items\"]:\n",
    "            cnt += 1\n",
    "            get_post_data(item, json_result, tuple_result, cnt)\n",
    "        start = json_response[\"start\"] + json_response[\"display\"]\n",
    "        json_response = get_naver_search(node, src_text, start, 100)\n",
    "    with open(f\"../data/{text}_naver_{node}.json\", \"w\", encoding=\"utf-8\") as f:\n",
    "        jsonFile = json.dumps(json_result, indent=2, sort_keys=False, ensure_ascii=False)\n",
    "            # 들여쓰기 2를 주어 보기좋게 만들고(기본값 False), key를 자동으로 오름차순 정렬하지 않고(기본값 False), 아스키코드로 변환 안한다는 뜻(기본값 True)\n",
    "        f.write(jsonFile)\n",
    "    save_db(tuple_result)\n",
    "    save_csv(tuple_result, text, node)\n"
   ]
  },
  {
   "cell_type": "code",
   "execution_count": 9,
   "metadata": {},
   "outputs": [
    {
     "name": "stdout",
     "output_type": "stream",
     "text": [
      "HTTP Error 400: Bad Request\n",
      "2025-03-25 15:41:38.793981 요청 실패: https://openapi.naver.com/v1/search/news?query=&start=1&display=100\n"
     ]
    }
   ],
   "source": [
    "news_search()"
   ]
  },
  {
   "cell_type": "markdown",
   "metadata": {},
   "source": [
    "요기까지가 메소드로 뉴스 서치하기 예제"
   ]
  },
  {
   "cell_type": "code",
   "execution_count": 10,
   "metadata": {},
   "outputs": [
    {
     "data": {
      "text/html": [
       "<div>\n",
       "<style scoped>\n",
       "    .dataframe tbody tr th:only-of-type {\n",
       "        vertical-align: middle;\n",
       "    }\n",
       "\n",
       "    .dataframe tbody tr th {\n",
       "        vertical-align: top;\n",
       "    }\n",
       "\n",
       "    .dataframe thead th {\n",
       "        text-align: right;\n",
       "    }\n",
       "</style>\n",
       "<table border=\"1\" class=\"dataframe\">\n",
       "  <thead>\n",
       "    <tr style=\"text-align: right;\">\n",
       "      <th></th>\n",
       "      <th>0</th>\n",
       "      <th>1</th>\n",
       "      <th>2</th>\n",
       "      <th>3</th>\n",
       "    </tr>\n",
       "  </thead>\n",
       "  <tbody>\n",
       "    <tr>\n",
       "      <th>0</th>\n",
       "      <td>손흥민 어떻게 이런 감독 밑에서 일했나...쓰레기 같은 기분 느껴 무시...</td>\n",
       "      <td>https://m.sports.naver.com/wfootball/article/0...</td>\n",
       "      <td>Tue, 25 Mar 2025 15:35:00 +0900</td>\n",
       "      <td>안토니오 콘테 감독은 특정 선수들을 완전히 무시해버렸다. 영국 이브닝 스탠다드는 2...</td>\n",
       "    </tr>\n",
       "    <tr>\n",
       "      <th>1</th>\n",
       "      <td>[스포츠JOB아보기(20) 정성은] '진로의 연결고리' 대외활동, 합격 꿀팁은...</td>\n",
       "      <td>http://www.sportsq.co.kr/news/articleView.html...</td>\n",
       "      <td>Tue, 25 Mar 2025 15:34:00 +0900</td>\n",
       "      <td>손흥민을 보고 체육대학 진학을 결심한 이후 축구산업, 마케팅, 사업계획 등 여러 경...</td>\n",
       "    </tr>\n",
       "    <tr>\n",
       "      <th>2</th>\n",
       "      <td>로메로 ‘손흥민급’ 주급 제안에도 토트넘 의료진 저격…레알 마드리...</td>\n",
       "      <td>https://m.sports.naver.com/wfootball/article/1...</td>\n",
       "      <td>Tue, 25 Mar 2025 15:28:00 +0900</td>\n",
       "      <td>토트넘은 로메로를 잡기 위해 주장 손흥민과 동급인 주급 20만파운드(약 3억8000...</td>\n",
       "    </tr>\n",
       "    <tr>\n",
       "      <th>3</th>\n",
       "      <td>[IN POINT] 클린스만호 멸망→한국 축구 혼란 만든 요르단...이제 홍명보...</td>\n",
       "      <td>https://m.sports.naver.com/kfootball/article/4...</td>\n",
       "      <td>Tue, 25 Mar 2025 15:25:00 +0900</td>\n",
       "      <td>이전부터 클린스만 감독 아래 쌓였던 불만과 비판이 터졌고 손흥민, 이강인 불화 문제...</td>\n",
       "    </tr>\n",
       "    <tr>\n",
       "      <th>4</th>\n",
       "      <td>쿠팡플레이가 EPL 전 경기를 독점 생중계한다</td>\n",
       "      <td>https://www.esquirekorea.co.kr/article/1879150</td>\n",
       "      <td>Tue, 25 Mar 2025 15:20:00 +0900</td>\n",
       "      <td>손흥민(@hm_son7) 쿠팡플레이가 2025-2026 시즌부터 프리미어리그 전 경...</td>\n",
       "    </tr>\n",
       "    <tr>\n",
       "      <th>5</th>\n",
       "      <td>손흥민과 적으로 만날 수도? 케인, EPL 복귀 관심...리버풀은 1,900억 제...</td>\n",
       "      <td>https://m.sports.naver.com/wfootball/article/4...</td>\n",
       "      <td>Tue, 25 Mar 2025 15:15:00 +0900</td>\n",
       "      <td>손흥민과 적으로 다시 만난다? 영국 매체 '90min'은 25일 리버풀은 해리 케인...</td>\n",
       "    </tr>\n",
       "    <tr>\n",
       "      <th>6</th>\n",
       "      <td>한국 요르단 축구 중계… 선발 라인업은?</td>\n",
       "      <td>https://www.wikitree.co.kr/articles/1036174</td>\n",
       "      <td>Tue, 25 Mar 2025 15:00:00 +0900</td>\n",
       "      <td>(버밍엄시티), 손흥민(토트넘), 양민혁(퀸즈파크레인저스), 양현준(셀틱), 엄지성...</td>\n",
       "    </tr>\n",
       "    <tr>\n",
       "      <th>7</th>\n",
       "      <td>'대충격!' 손흥민 팔면 토트넘 대반전 가능!! 英 매체 충격적 분석......</td>\n",
       "      <td>https://m.sports.naver.com/wfootball/article/1...</td>\n",
       "      <td>Tue, 25 Mar 2025 14:56:00 +0900</td>\n",
       "      <td>손흥민(토트넘)에 대한 평가가 최악으로 치닫고 있다. 더이상 좋은 모습을 보이지 못...</td>\n",
       "    </tr>\n",
       "    <tr>\n",
       "      <th>8</th>\n",
       "      <td>케인의 토트넘-손흥민 배신 시작됐나...리버풀, 1900억 입찰! PL 복귀 추...</td>\n",
       "      <td>https://m.sports.naver.com/wfootball/article/4...</td>\n",
       "      <td>Tue, 25 Mar 2025 14:50:00 +0900</td>\n",
       "      <td>손흥민, 델레 알리, 크리스티안 에릭센과 함께 'DESK 라인'을 구성하면서 토트넘...</td>\n",
       "    </tr>\n",
       "    <tr>\n",
       "      <th>9</th>\n",
       "      <td>토트넘 유망주들, 반드시 꺾어야 할 '적과의 동침' 후 복귀… 친구이자...</td>\n",
       "      <td>https://m.sports.naver.com/wfootball/article/4...</td>\n",
       "      <td>Tue, 25 Mar 2025 14:48:00 +0900</td>\n",
       "      <td>토트넘 윙어 중 가장 능숙한 드리블러로서 손흥민과 좌우를 맡았을 때 조합이 좋은 편...</td>\n",
       "    </tr>\n",
       "  </tbody>\n",
       "</table>\n",
       "</div>"
      ],
      "text/plain": [
       "                                                  0  \\\n",
       "0        손흥민 어떻게 이런 감독 밑에서 일했나...쓰레기 같은 기분 느껴 무시...   \n",
       "1    [스포츠JOB아보기(20) 정성은] '진로의 연결고리' 대외활동, 합격 꿀팁은...   \n",
       "2           로메로 ‘손흥민급’ 주급 제안에도 토트넘 의료진 저격…레알 마드리...   \n",
       "3   [IN POINT] 클린스만호 멸망→한국 축구 혼란 만든 요르단...이제 홍명보...   \n",
       "4                         쿠팡플레이가 EPL 전 경기를 독점 생중계한다   \n",
       "5  손흥민과 적으로 만날 수도? 케인, EPL 복귀 관심...리버풀은 1,900억 제...   \n",
       "6                            한국 요르단 축구 중계… 선발 라인업은?   \n",
       "7      '대충격!' 손흥민 팔면 토트넘 대반전 가능!! 英 매체 충격적 분석......   \n",
       "8   케인의 토트넘-손흥민 배신 시작됐나...리버풀, 1900억 입찰! PL 복귀 추...   \n",
       "9        토트넘 유망주들, 반드시 꺾어야 할 '적과의 동침' 후 복귀… 친구이자...   \n",
       "\n",
       "                                                   1  \\\n",
       "0  https://m.sports.naver.com/wfootball/article/0...   \n",
       "1  http://www.sportsq.co.kr/news/articleView.html...   \n",
       "2  https://m.sports.naver.com/wfootball/article/1...   \n",
       "3  https://m.sports.naver.com/kfootball/article/4...   \n",
       "4     https://www.esquirekorea.co.kr/article/1879150   \n",
       "5  https://m.sports.naver.com/wfootball/article/4...   \n",
       "6        https://www.wikitree.co.kr/articles/1036174   \n",
       "7  https://m.sports.naver.com/wfootball/article/1...   \n",
       "8  https://m.sports.naver.com/wfootball/article/4...   \n",
       "9  https://m.sports.naver.com/wfootball/article/4...   \n",
       "\n",
       "                                 2  \\\n",
       "0  Tue, 25 Mar 2025 15:35:00 +0900   \n",
       "1  Tue, 25 Mar 2025 15:34:00 +0900   \n",
       "2  Tue, 25 Mar 2025 15:28:00 +0900   \n",
       "3  Tue, 25 Mar 2025 15:25:00 +0900   \n",
       "4  Tue, 25 Mar 2025 15:20:00 +0900   \n",
       "5  Tue, 25 Mar 2025 15:15:00 +0900   \n",
       "6  Tue, 25 Mar 2025 15:00:00 +0900   \n",
       "7  Tue, 25 Mar 2025 14:56:00 +0900   \n",
       "8  Tue, 25 Mar 2025 14:50:00 +0900   \n",
       "9  Tue, 25 Mar 2025 14:48:00 +0900   \n",
       "\n",
       "                                                   3  \n",
       "0  안토니오 콘테 감독은 특정 선수들을 완전히 무시해버렸다. 영국 이브닝 스탠다드는 2...  \n",
       "1  손흥민을 보고 체육대학 진학을 결심한 이후 축구산업, 마케팅, 사업계획 등 여러 경...  \n",
       "2  토트넘은 로메로를 잡기 위해 주장 손흥민과 동급인 주급 20만파운드(약 3억8000...  \n",
       "3  이전부터 클린스만 감독 아래 쌓였던 불만과 비판이 터졌고 손흥민, 이강인 불화 문제...  \n",
       "4  손흥민(@hm_son7) 쿠팡플레이가 2025-2026 시즌부터 프리미어리그 전 경...  \n",
       "5  손흥민과 적으로 다시 만난다? 영국 매체 '90min'은 25일 리버풀은 해리 케인...  \n",
       "6  (버밍엄시티), 손흥민(토트넘), 양민혁(퀸즈파크레인저스), 양현준(셀틱), 엄지성...  \n",
       "7  손흥민(토트넘)에 대한 평가가 최악으로 치닫고 있다. 더이상 좋은 모습을 보이지 못...  \n",
       "8  손흥민, 델레 알리, 크리스티안 에릭센과 함께 'DESK 라인'을 구성하면서 토트넘...  \n",
       "9  토트넘 윙어 중 가장 능숙한 드리블러로서 손흥민과 좌우를 맡았을 때 조합이 좋은 편...  "
      ]
     },
     "execution_count": 10,
     "metadata": {},
     "output_type": "execute_result"
    }
   ],
   "source": [
    "# 네이버 검색 API 예제 - 블로그 검색\n",
    "encText = urllib.parse.quote(\"손흥민\") # 한글을 16진수로 파싱\n",
    "# url = \"https://openapi.naver.com/v1/search/image?query=\" + encText # JSON 결과(이미지)\n",
    "# url = \"https://openapi.naver.com/v1/search/book?query=\" + encText # JSON 결과(도서)\n",
    "url = \"https://openapi.naver.com/v1/search/news?query=\" + encText # JSON 결과(뉴스)\n",
    "# url = \"https://openapi.naver.com/v1/search/blog?query=\" + encText # JSON 결과(블로그)\n",
    "# url = \"https://openapi.naver.com/v1/search/blog.xml?query=\" + encText # XML 결과(블로그)\n",
    "request = urllib.request.Request(url)   # request 객체 생성\n",
    "request.add_header(\"X-Naver-Client-Id\", client_id)\n",
    "request.add_header(\"X-Naver-Client-Secret\", client_secret)\n",
    "response = urllib.request.urlopen(request)\n",
    "rescode = response.getcode()\n",
    "if(rescode == 200):\n",
    "    response_body = response.read()\n",
    "    result = response_body.decode('utf-8')    # 지금 상황에선 아직 JSON 형태가 아님... 그냥 String 형태임\n",
    "    result_json = json.loads(result)   # 이제 JSON임\n",
    "    items = result_json[\"items\"]\n",
    "    item_list = []\n",
    "    for item in items:\n",
    "        title = item[\"title\"].replace(\"&quot;\", '').replace(\"<b>\", \"\").replace(\"</b>\", \"\").replace(\"&lt;\", \"\").replace(\"&gt;\", \"\")\n",
    "        link = item[\"link\"]\n",
    "        pubDate = item[\"pubDate\"]\n",
    "        description = item[\"description\"].replace(\"&quot;\", '').replace(\"<b>\", \"\").replace(\"</b>\", \"\")\n",
    "        item_list.append((title, link, pubDate, description))\n",
    "else:\n",
    "    print(\"Error Code:\" + rescode)\n",
    "\n",
    "df = pd.DataFrame(item_list)\n",
    "df"
   ]
  },
  {
   "cell_type": "markdown",
   "metadata": {},
   "source": [
    "book 검색\n",
    "제목, 저자, 출판사, 가격, 이미지 링크, 출판일\n",
    "200건 검색"
   ]
  },
  {
   "cell_type": "code",
   "execution_count": 11,
   "metadata": {},
   "outputs": [],
   "source": [
    "item_list = []\n",
    "\n",
    "search_list = [\"AI\", \"파이썬\", \"한국사\"]\n",
    "\n",
    "for search in search_list:\n",
    "    for i in range(1, 11):\n",
    "        encText = urllib.parse.quote(search)\n",
    "        url = \"https://openapi.naver.com/v1/search/book?start=\" + str(i) + \"&query=\" + encText\n",
    "        request = urllib.request.Request(url)\n",
    "        request.add_header(\"X-Naver-Client-Id\", client_id)\n",
    "        request.add_header(\"X-Naver-Client-Secret\", client_secret)\n",
    "        response = urllib.request.urlopen(request)\n",
    "        rescode = response.getcode()\n",
    "        if(rescode == 200):\n",
    "            response_body = response.read()\n",
    "            result = json.loads(response_body.decode('utf-8'))\n",
    "            items = result[\"items\"]\n",
    "            for item in items:\n",
    "                title = item[\"title\"]\n",
    "                image = item[\"image\"]\n",
    "                author = item[\"author\"]\n",
    "                discount = item[\"discount\"]\n",
    "                publisher = item[\"publisher\"]\n",
    "                pubdate = item[\"pubdate\"]\n",
    "                item_list.append((title, author, publisher, discount, image, pubdate))\n",
    "        else:\n",
    "            print(\"Error Code:\" + rescode)\n",
    "            break"
   ]
  },
  {
   "cell_type": "code",
   "execution_count": null,
   "metadata": {},
   "outputs": [],
   "source": [
    "df = pd.DataFrame(item_list, columns=[\"제목\", \"저자\", \"출판사\", \"가격\", \"이미지 링크\", \"출판일\"])\n",
    "df.to_csv(\"../data/네이버 도서 검색 예제.csv\", encoding=\"utf-8\")"
   ]
  },
  {
   "cell_type": "code",
   "execution_count": null,
   "metadata": {},
   "outputs": [
    {
     "name": "stdout",
     "output_type": "stream",
     "text": [
      "{\"startDate\":\"2025-02-01\",\"endDate\":\"2025-03-01\",\"timeUnit\":\"date\",\"results\":[{\"title\":\"검색어\",\"keywords\":[\"손흥민\"],\"data\":[{\"period\":\"2025-02-01\",\"ratio\":27.99637},{\"period\":\"2025-02-02\",\"ratio\":41.7926},{\"period\":\"2025-02-03\",\"ratio\":70.94084},{\"period\":\"2025-02-04\",\"ratio\":28.57537},{\"period\":\"2025-02-05\",\"ratio\":26.67557},{\"period\":\"2025-02-06\",\"ratio\":36.18687},{\"period\":\"2025-02-07\",\"ratio\":54.16973},{\"period\":\"2025-02-08\",\"ratio\":25.94606},{\"period\":\"2025-02-09\",\"ratio\":27.35286},{\"period\":\"2025-02-10\",\"ratio\":40.63613},{\"period\":\"2025-02-11\",\"ratio\":39.55031},{\"period\":\"2025-02-12\",\"ratio\":36.43721},{\"period\":\"2025-02-13\",\"ratio\":34.53741},{\"period\":\"2025-02-14\",\"ratio\":29.67041},{\"period\":\"2025-02-15\",\"ratio\":27.24996},{\"period\":\"2025-02-16\",\"ratio\":31.06186},{\"period\":\"2025-02-17\",\"ratio\":55.29702},{\"period\":\"2025-02-18\",\"ratio\":27.90883},{\"period\":\"2025-02-19\",\"ratio\":24.00939},{\"period\":\"2025-02-20\",\"ratio\":28.02555},{\"period\":\"2025-02-21\",\"ratio\":44.01492},{\"period\":\"2025-02-22\",\"ratio\":45.66592},{\"period\":\"2025-02-23\",\"ratio\":100},{\"period\":\"2025-02-24\",\"ratio\":42.13201},{\"period\":\"2025-02-25\",\"ratio\":37.92849},{\"period\":\"2025-02-26\",\"ratio\":36.95939},{\"period\":\"2025-02-27\",\"ratio\":55.2448},{\"period\":\"2025-02-28\",\"ratio\":41.09534},{\"period\":\"2025-03-01\",\"ratio\":40.93101}]}]}\n"
     ]
    }
   ],
   "source": [
    "# 네이버 데이터랩(검색어트렌드) 사용 예제\n",
    "#-*- coding: utf-8 -*-\n",
    "\n",
    "client_id = \"tVgSoOb5eAZXCc9FtW37\"\n",
    "client_secret = \"WUaCR5ONEY\"\n",
    "\n",
    "url = \"https://openapi.naver.com/v1/datalab/search\";\n",
    "body = \"{\\\"startDate\\\":\\\"2025-02-01\\\",\\\"endDate\\\":\\\"2025-03-01\\\",\\\"timeUnit\\\":\\\"date\\\",\\\"keywordGroups\\\":[{\\\"groupName\\\":\\\"검색어\\\",\\\"keywords\\\":[\\\"손흥민\\\"]}]}\";\n",
    "\n",
    "request = urllib.request.Request(url)\n",
    "request.add_header(\"X-Naver-Client-Id\",client_id)\n",
    "request.add_header(\"X-Naver-Client-Secret\",client_secret)\n",
    "request.add_header(\"Content-Type\",\"application/json\")\n",
    "response = urllib.request.urlopen(request, data=body.encode(\"utf-8\"))\n",
    "rescode = response.getcode()\n",
    "if(rescode==200):\n",
    "    response_body = response.read()\n",
    "    print(response_body.decode('utf-8'))\n",
    "    \n",
    "else:\n",
    "    print(\"Error Code:\" + rescode)"
   ]
  },
  {
   "cell_type": "code",
   "execution_count": null,
   "metadata": {},
   "outputs": [],
   "source": []
  }
 ],
 "metadata": {
  "kernelspec": {
   "display_name": "base",
   "language": "python",
   "name": "python3"
  },
  "language_info": {
   "codemirror_mode": {
    "name": "ipython",
    "version": 3
   },
   "file_extension": ".py",
   "mimetype": "text/x-python",
   "name": "python",
   "nbconvert_exporter": "python",
   "pygments_lexer": "ipython3",
   "version": "3.12.7"
  }
 },
 "nbformat": 4,
 "nbformat_minor": 2
}
