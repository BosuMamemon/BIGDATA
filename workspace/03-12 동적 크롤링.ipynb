{
 "cells": [
  {
   "cell_type": "code",
   "execution_count": 1,
   "metadata": {},
   "outputs": [
    {
     "name": "stdout",
     "output_type": "stream",
     "text": [
      "Requirement already satisfied: selenium in c:\\users\\it\\anaconda3\\lib\\site-packages (4.29.0)\n",
      "Requirement already satisfied: urllib3<3,>=1.26 in c:\\users\\it\\anaconda3\\lib\\site-packages (from urllib3[socks]<3,>=1.26->selenium) (2.2.3)\n",
      "Requirement already satisfied: trio~=0.17 in c:\\users\\it\\anaconda3\\lib\\site-packages (from selenium) (0.29.0)\n",
      "Requirement already satisfied: trio-websocket~=0.9 in c:\\users\\it\\anaconda3\\lib\\site-packages (from selenium) (0.12.2)\n",
      "Requirement already satisfied: certifi>=2021.10.8 in c:\\users\\it\\anaconda3\\lib\\site-packages (from selenium) (2025.1.31)\n",
      "Requirement already satisfied: typing_extensions~=4.9 in c:\\users\\it\\anaconda3\\lib\\site-packages (from selenium) (4.11.0)\n",
      "Requirement already satisfied: websocket-client~=1.8 in c:\\users\\it\\anaconda3\\lib\\site-packages (from selenium) (1.8.0)\n",
      "Requirement already satisfied: attrs>=23.2.0 in c:\\users\\it\\anaconda3\\lib\\site-packages (from trio~=0.17->selenium) (25.1.0)\n",
      "Requirement already satisfied: sortedcontainers in c:\\users\\it\\anaconda3\\lib\\site-packages (from trio~=0.17->selenium) (2.4.0)\n",
      "Requirement already satisfied: idna in c:\\users\\it\\anaconda3\\lib\\site-packages (from trio~=0.17->selenium) (3.7)\n",
      "Requirement already satisfied: outcome in c:\\users\\it\\anaconda3\\lib\\site-packages (from trio~=0.17->selenium) (1.3.0.post0)\n",
      "Requirement already satisfied: sniffio>=1.3.0 in c:\\users\\it\\anaconda3\\lib\\site-packages (from trio~=0.17->selenium) (1.3.0)\n",
      "Requirement already satisfied: cffi>=1.14 in c:\\users\\it\\anaconda3\\lib\\site-packages (from trio~=0.17->selenium) (1.17.1)\n",
      "Requirement already satisfied: wsproto>=0.14 in c:\\users\\it\\anaconda3\\lib\\site-packages (from trio-websocket~=0.9->selenium) (1.2.0)\n",
      "Requirement already satisfied: pysocks!=1.5.7,<2.0,>=1.5.6 in c:\\users\\it\\anaconda3\\lib\\site-packages (from urllib3[socks]<3,>=1.26->selenium) (1.7.1)\n",
      "Requirement already satisfied: pycparser in c:\\users\\it\\anaconda3\\lib\\site-packages (from cffi>=1.14->trio~=0.17->selenium) (2.21)\n",
      "Requirement already satisfied: h11<1,>=0.9.0 in c:\\users\\it\\anaconda3\\lib\\site-packages (from wsproto>=0.14->trio-websocket~=0.9->selenium) (0.14.0)\n"
     ]
    }
   ],
   "source": [
    "! pip install selenium"
   ]
  },
  {
   "cell_type": "code",
   "execution_count": 2,
   "metadata": {},
   "outputs": [],
   "source": [
    "from selenium import webdriver\n",
    "import time\n",
    "\n",
    "driver = webdriver.Chrome() # 브라우저 객체 생성하고 열기\n",
    "driver.get(\"http://www.google.com\") # 브라우저에 웹페이지를 불러옴\n",
    "# time.sleep(5)   # 5초 정도 아예 쿨쿨따를 한다는 뜻\n",
    "driver.implicitly_wait(10)  # 실행이 늦어지면 10초 정도 기다린다는 뜻\n",
    "driver.quit()   # 브라우저 닫기"
   ]
  },
  {
   "cell_type": "code",
   "execution_count": 3,
   "metadata": {},
   "outputs": [],
   "source": [
    "# 특정 요소 클릭하기\n",
    "\n",
    "driver = webdriver.Chrome()\n",
    "driver.get(\"http://www.google.com\")\n",
    "button = driver.find_element(\"link text\", \"Gmail\")\n",
    "button.click()\n",
    "time.sleep(5)\n",
    "driver.quit()"
   ]
  },
  {
   "cell_type": "code",
   "execution_count": 4,
   "metadata": {},
   "outputs": [],
   "source": [
    "# 키보드 입력방법\n",
    "\n",
    "from selenium.webdriver.common.keys import Keys\n",
    "\n",
    "driver = webdriver.Chrome()\n",
    "driver.get(\"http://www.naver.com\")\n",
    "driver.implicitly_wait(10)\n",
    "\n",
    "searchBox =driver.find_element(\"name\", \"query\")\n",
    "searchBox.send_keys(\"디지몬\")\n",
    "searchBox.send_keys(Keys.ENTER)\n",
    "time.sleep(5)\n",
    "driver.quit()"
   ]
  },
  {
   "cell_type": "code",
   "execution_count": 5,
   "metadata": {},
   "outputs": [],
   "source": [
    "# 메소드를 사용한 웹 페이지 파싱\n",
    "\n",
    "from selenium.webdriver.common.by import By\n",
    "\n",
    "driver = webdriver.Chrome()\n",
    "driver.get(\"http://www.naver.com\")\n",
    "target = driver.find_element(By.CLASS_NAME, \"search_input\")\n",
    "target.send_keys(\"파이썬\")\n",
    "target.send_keys(Keys.ENTER)\n",
    "time.sleep(5)\n",
    "driver.quit()\n"
   ]
  },
  {
   "cell_type": "code",
   "execution_count": 6,
   "metadata": {},
   "outputs": [],
   "source": [
    "# 자바스크립트 실행\n",
    "\n",
    "driver = webdriver.Chrome()\n",
    "driver.get(\"http://news.google.com\")\n",
    "time.sleep(3)\n",
    "\n",
    "driver.execute_script(\"window.scrollTo(0, document.body.scrollHeight);\")\n",
    "time.sleep(5)\n",
    "driver.quit()"
   ]
  },
  {
   "cell_type": "code",
   "execution_count": 7,
   "metadata": {},
   "outputs": [],
   "source": [
    "# 자바스크립트로 새창 열기\n",
    "\n",
    "driver = webdriver.Chrome()\n",
    "driver.get(\"https://www.google.com\")\n",
    "time.sleep(5)\n",
    "\n",
    "driver.execute_script(\"window.open('https://www.naver.com');\")\n",
    "\n",
    "# 창 핸들 가져오기\n",
    "windows = driver.window_handles\n",
    "driver.switch_to.window(windows[0])\n",
    "time.sleep(5)\n",
    "\n",
    "driver.quit()"
   ]
  },
  {
   "cell_type": "code",
   "execution_count": 38,
   "metadata": {},
   "outputs": [
    {
     "ename": "TypeError",
     "evalue": "Object of type function is not JSON serializable",
     "output_type": "error",
     "traceback": [
      "\u001b[1;31m---------------------------------------------------------------------------\u001b[0m",
      "\u001b[1;31mTypeError\u001b[0m                                 Traceback (most recent call last)",
      "Cell \u001b[1;32mIn[38], line 12\u001b[0m\n\u001b[0;32m      9\u001b[0m \u001b[38;5;66;03m# 페이지 전환, iFrame 안의 콘텐츠 로딩\u001b[39;00m\n\u001b[0;32m     11\u001b[0m iframe \u001b[38;5;241m=\u001b[39m EC\u001b[38;5;241m.\u001b[39mpresence_of_element_located((By\u001b[38;5;241m.\u001b[39mCSS_SELECTOR, \u001b[38;5;124m\"\u001b[39m\u001b[38;5;124miframe[src*=\u001b[39m\u001b[38;5;124m'\u001b[39m\u001b[38;5;124mdefault.asp\u001b[39m\u001b[38;5;124m'\u001b[39m\u001b[38;5;124m]\u001b[39m\u001b[38;5;124m\"\u001b[39m)) \u001b[38;5;66;03m# 이러면 By 임포트 안해도 됨\u001b[39;00m\n\u001b[1;32m---> 12\u001b[0m driver\u001b[38;5;241m.\u001b[39mswitch_to\u001b[38;5;241m.\u001b[39mframe(iframe)\n\u001b[0;32m     14\u001b[0m element \u001b[38;5;241m=\u001b[39m driver\u001b[38;5;241m.\u001b[39mfind_element(By\u001b[38;5;241m.\u001b[39mCSS_SELECTOR, \u001b[38;5;124m\"\u001b[39m\u001b[38;5;124m#mainLeaderboard > h1\u001b[39m\u001b[38;5;124m\"\u001b[39m)\n\u001b[0;32m     15\u001b[0m \u001b[38;5;28mprint\u001b[39m(element\u001b[38;5;241m.\u001b[39mtext)\n",
      "File \u001b[1;32mc:\\Users\\it\\anaconda3\\Lib\\site-packages\\selenium\\webdriver\\remote\\switch_to.py:95\u001b[0m, in \u001b[0;36mSwitchTo.frame\u001b[1;34m(self, frame_reference)\u001b[0m\n\u001b[0;32m     92\u001b[0m         \u001b[38;5;28;01mexcept\u001b[39;00m NoSuchElementException \u001b[38;5;28;01mas\u001b[39;00m exc:\n\u001b[0;32m     93\u001b[0m             \u001b[38;5;28;01mraise\u001b[39;00m NoSuchFrameException(frame_reference) \u001b[38;5;28;01mfrom\u001b[39;00m \u001b[38;5;21;01mexc\u001b[39;00m\n\u001b[1;32m---> 95\u001b[0m \u001b[38;5;28mself\u001b[39m\u001b[38;5;241m.\u001b[39m_driver\u001b[38;5;241m.\u001b[39mexecute(Command\u001b[38;5;241m.\u001b[39mSWITCH_TO_FRAME, {\u001b[38;5;124m\"\u001b[39m\u001b[38;5;124mid\u001b[39m\u001b[38;5;124m\"\u001b[39m: frame_reference})\n",
      "File \u001b[1;32mc:\\Users\\it\\anaconda3\\Lib\\site-packages\\selenium\\webdriver\\remote\\webdriver.py:427\u001b[0m, in \u001b[0;36mWebDriver.execute\u001b[1;34m(self, driver_command, params)\u001b[0m\n\u001b[0;32m    424\u001b[0m     \u001b[38;5;28;01melif\u001b[39;00m \u001b[38;5;124m\"\u001b[39m\u001b[38;5;124msessionId\u001b[39m\u001b[38;5;124m\"\u001b[39m \u001b[38;5;129;01mnot\u001b[39;00m \u001b[38;5;129;01min\u001b[39;00m params:\n\u001b[0;32m    425\u001b[0m         params[\u001b[38;5;124m\"\u001b[39m\u001b[38;5;124msessionId\u001b[39m\u001b[38;5;124m\"\u001b[39m] \u001b[38;5;241m=\u001b[39m \u001b[38;5;28mself\u001b[39m\u001b[38;5;241m.\u001b[39msession_id\n\u001b[1;32m--> 427\u001b[0m response \u001b[38;5;241m=\u001b[39m \u001b[38;5;28mself\u001b[39m\u001b[38;5;241m.\u001b[39mcommand_executor\u001b[38;5;241m.\u001b[39mexecute(driver_command, params)\n\u001b[0;32m    428\u001b[0m \u001b[38;5;28;01mif\u001b[39;00m response:\n\u001b[0;32m    429\u001b[0m     \u001b[38;5;28mself\u001b[39m\u001b[38;5;241m.\u001b[39merror_handler\u001b[38;5;241m.\u001b[39mcheck_response(response)\n",
      "File \u001b[1;32mc:\\Users\\it\\anaconda3\\Lib\\site-packages\\selenium\\webdriver\\remote\\remote_connection.py:400\u001b[0m, in \u001b[0;36mRemoteConnection.execute\u001b[1;34m(self, command, params)\u001b[0m\n\u001b[0;32m    398\u001b[0m     \u001b[38;5;28;01mfor\u001b[39;00m word \u001b[38;5;129;01min\u001b[39;00m substitute_params:\n\u001b[0;32m    399\u001b[0m         \u001b[38;5;28;01mdel\u001b[39;00m params[word]\n\u001b[1;32m--> 400\u001b[0m data \u001b[38;5;241m=\u001b[39m utils\u001b[38;5;241m.\u001b[39mdump_json(params)\n\u001b[0;32m    401\u001b[0m url \u001b[38;5;241m=\u001b[39m \u001b[38;5;124mf\u001b[39m\u001b[38;5;124m\"\u001b[39m\u001b[38;5;132;01m{\u001b[39;00m\u001b[38;5;28mself\u001b[39m\u001b[38;5;241m.\u001b[39m_client_config\u001b[38;5;241m.\u001b[39mremote_server_addr\u001b[38;5;132;01m}\u001b[39;00m\u001b[38;5;132;01m{\u001b[39;00mpath\u001b[38;5;132;01m}\u001b[39;00m\u001b[38;5;124m\"\u001b[39m\n\u001b[0;32m    402\u001b[0m trimmed \u001b[38;5;241m=\u001b[39m \u001b[38;5;28mself\u001b[39m\u001b[38;5;241m.\u001b[39m_trim_large_entries(params)\n",
      "File \u001b[1;32mc:\\Users\\it\\anaconda3\\Lib\\site-packages\\selenium\\webdriver\\remote\\utils.py:24\u001b[0m, in \u001b[0;36mdump_json\u001b[1;34m(json_struct)\u001b[0m\n\u001b[0;32m     23\u001b[0m \u001b[38;5;28;01mdef\u001b[39;00m \u001b[38;5;21mdump_json\u001b[39m(json_struct: Any) \u001b[38;5;241m-\u001b[39m\u001b[38;5;241m>\u001b[39m \u001b[38;5;28mstr\u001b[39m:\n\u001b[1;32m---> 24\u001b[0m     \u001b[38;5;28;01mreturn\u001b[39;00m json\u001b[38;5;241m.\u001b[39mdumps(json_struct)\n",
      "File \u001b[1;32mc:\\Users\\it\\anaconda3\\Lib\\json\\__init__.py:231\u001b[0m, in \u001b[0;36mdumps\u001b[1;34m(obj, skipkeys, ensure_ascii, check_circular, allow_nan, cls, indent, separators, default, sort_keys, **kw)\u001b[0m\n\u001b[0;32m    226\u001b[0m \u001b[38;5;66;03m# cached encoder\u001b[39;00m\n\u001b[0;32m    227\u001b[0m \u001b[38;5;28;01mif\u001b[39;00m (\u001b[38;5;129;01mnot\u001b[39;00m skipkeys \u001b[38;5;129;01mand\u001b[39;00m ensure_ascii \u001b[38;5;129;01mand\u001b[39;00m\n\u001b[0;32m    228\u001b[0m     check_circular \u001b[38;5;129;01mand\u001b[39;00m allow_nan \u001b[38;5;129;01mand\u001b[39;00m\n\u001b[0;32m    229\u001b[0m     \u001b[38;5;28mcls\u001b[39m \u001b[38;5;129;01mis\u001b[39;00m \u001b[38;5;28;01mNone\u001b[39;00m \u001b[38;5;129;01mand\u001b[39;00m indent \u001b[38;5;129;01mis\u001b[39;00m \u001b[38;5;28;01mNone\u001b[39;00m \u001b[38;5;129;01mand\u001b[39;00m separators \u001b[38;5;129;01mis\u001b[39;00m \u001b[38;5;28;01mNone\u001b[39;00m \u001b[38;5;129;01mand\u001b[39;00m\n\u001b[0;32m    230\u001b[0m     default \u001b[38;5;129;01mis\u001b[39;00m \u001b[38;5;28;01mNone\u001b[39;00m \u001b[38;5;129;01mand\u001b[39;00m \u001b[38;5;129;01mnot\u001b[39;00m sort_keys \u001b[38;5;129;01mand\u001b[39;00m \u001b[38;5;129;01mnot\u001b[39;00m kw):\n\u001b[1;32m--> 231\u001b[0m     \u001b[38;5;28;01mreturn\u001b[39;00m _default_encoder\u001b[38;5;241m.\u001b[39mencode(obj)\n\u001b[0;32m    232\u001b[0m \u001b[38;5;28;01mif\u001b[39;00m \u001b[38;5;28mcls\u001b[39m \u001b[38;5;129;01mis\u001b[39;00m \u001b[38;5;28;01mNone\u001b[39;00m:\n\u001b[0;32m    233\u001b[0m     \u001b[38;5;28mcls\u001b[39m \u001b[38;5;241m=\u001b[39m JSONEncoder\n",
      "File \u001b[1;32mc:\\Users\\it\\anaconda3\\Lib\\json\\encoder.py:200\u001b[0m, in \u001b[0;36mJSONEncoder.encode\u001b[1;34m(self, o)\u001b[0m\n\u001b[0;32m    196\u001b[0m         \u001b[38;5;28;01mreturn\u001b[39;00m encode_basestring(o)\n\u001b[0;32m    197\u001b[0m \u001b[38;5;66;03m# This doesn't pass the iterator directly to ''.join() because the\u001b[39;00m\n\u001b[0;32m    198\u001b[0m \u001b[38;5;66;03m# exceptions aren't as detailed.  The list call should be roughly\u001b[39;00m\n\u001b[0;32m    199\u001b[0m \u001b[38;5;66;03m# equivalent to the PySequence_Fast that ''.join() would do.\u001b[39;00m\n\u001b[1;32m--> 200\u001b[0m chunks \u001b[38;5;241m=\u001b[39m \u001b[38;5;28mself\u001b[39m\u001b[38;5;241m.\u001b[39miterencode(o, _one_shot\u001b[38;5;241m=\u001b[39m\u001b[38;5;28;01mTrue\u001b[39;00m)\n\u001b[0;32m    201\u001b[0m \u001b[38;5;28;01mif\u001b[39;00m \u001b[38;5;129;01mnot\u001b[39;00m \u001b[38;5;28misinstance\u001b[39m(chunks, (\u001b[38;5;28mlist\u001b[39m, \u001b[38;5;28mtuple\u001b[39m)):\n\u001b[0;32m    202\u001b[0m     chunks \u001b[38;5;241m=\u001b[39m \u001b[38;5;28mlist\u001b[39m(chunks)\n",
      "File \u001b[1;32mc:\\Users\\it\\anaconda3\\Lib\\json\\encoder.py:258\u001b[0m, in \u001b[0;36mJSONEncoder.iterencode\u001b[1;34m(self, o, _one_shot)\u001b[0m\n\u001b[0;32m    253\u001b[0m \u001b[38;5;28;01melse\u001b[39;00m:\n\u001b[0;32m    254\u001b[0m     _iterencode \u001b[38;5;241m=\u001b[39m _make_iterencode(\n\u001b[0;32m    255\u001b[0m         markers, \u001b[38;5;28mself\u001b[39m\u001b[38;5;241m.\u001b[39mdefault, _encoder, \u001b[38;5;28mself\u001b[39m\u001b[38;5;241m.\u001b[39mindent, floatstr,\n\u001b[0;32m    256\u001b[0m         \u001b[38;5;28mself\u001b[39m\u001b[38;5;241m.\u001b[39mkey_separator, \u001b[38;5;28mself\u001b[39m\u001b[38;5;241m.\u001b[39mitem_separator, \u001b[38;5;28mself\u001b[39m\u001b[38;5;241m.\u001b[39msort_keys,\n\u001b[0;32m    257\u001b[0m         \u001b[38;5;28mself\u001b[39m\u001b[38;5;241m.\u001b[39mskipkeys, _one_shot)\n\u001b[1;32m--> 258\u001b[0m \u001b[38;5;28;01mreturn\u001b[39;00m _iterencode(o, \u001b[38;5;241m0\u001b[39m)\n",
      "File \u001b[1;32mc:\\Users\\it\\anaconda3\\Lib\\json\\encoder.py:180\u001b[0m, in \u001b[0;36mJSONEncoder.default\u001b[1;34m(self, o)\u001b[0m\n\u001b[0;32m    161\u001b[0m \u001b[38;5;28;01mdef\u001b[39;00m \u001b[38;5;21mdefault\u001b[39m(\u001b[38;5;28mself\u001b[39m, o):\n\u001b[0;32m    162\u001b[0m \u001b[38;5;250m    \u001b[39m\u001b[38;5;124;03m\"\"\"Implement this method in a subclass such that it returns\u001b[39;00m\n\u001b[0;32m    163\u001b[0m \u001b[38;5;124;03m    a serializable object for ``o``, or calls the base implementation\u001b[39;00m\n\u001b[0;32m    164\u001b[0m \u001b[38;5;124;03m    (to raise a ``TypeError``).\u001b[39;00m\n\u001b[1;32m   (...)\u001b[0m\n\u001b[0;32m    178\u001b[0m \n\u001b[0;32m    179\u001b[0m \u001b[38;5;124;03m    \"\"\"\u001b[39;00m\n\u001b[1;32m--> 180\u001b[0m     \u001b[38;5;28;01mraise\u001b[39;00m \u001b[38;5;167;01mTypeError\u001b[39;00m(\u001b[38;5;124mf\u001b[39m\u001b[38;5;124m'\u001b[39m\u001b[38;5;124mObject of type \u001b[39m\u001b[38;5;132;01m{\u001b[39;00mo\u001b[38;5;241m.\u001b[39m\u001b[38;5;18m__class__\u001b[39m\u001b[38;5;241m.\u001b[39m\u001b[38;5;18m__name__\u001b[39m\u001b[38;5;132;01m}\u001b[39;00m\u001b[38;5;124m \u001b[39m\u001b[38;5;124m'\u001b[39m\n\u001b[0;32m    181\u001b[0m                     \u001b[38;5;124mf\u001b[39m\u001b[38;5;124m'\u001b[39m\u001b[38;5;124mis not JSON serializable\u001b[39m\u001b[38;5;124m'\u001b[39m)\n",
      "\u001b[1;31mTypeError\u001b[0m: Object of type function is not JSON serializable"
     ]
    }
   ],
   "source": [
    "from selenium.webdriver.support import expected_conditions as EC\n",
    "\n",
    "# iFrame 안에 있는 html 크롤링 해오기\n",
    "\n",
    "driver = webdriver.Chrome()\n",
    "driver.get(\"https://www.w3schools.com/html/html_iframe.asp\")\n",
    "driver.implicitly_wait(10)\n",
    "\n",
    "# 페이지 전환, iFrame 안의 콘텐츠 로딩\n",
    "\n",
    "iframe = EC.presence_of_element_located((By.CSS_SELECTOR, \"iframe[src*='default.asp']\")) # 이러면 By 임포트 안해도 됨\n",
    "driver.switch_to.frame(iframe)\n",
    "\n",
    "element = driver.find_element(By.CSS_SELECTOR, \"#mainLeaderboard > h1\")\n",
    "print(element.text)\n",
    "\n",
    "time.sleep(3)\n",
    "driver.quit()"
   ]
  },
  {
   "cell_type": "code",
   "execution_count": null,
   "metadata": {},
   "outputs": [
    {
     "name": "stdout",
     "output_type": "stream",
     "text": [
      "기존 쿠키 정보 출력\n",
      "[{'domain': '.google.com', 'expiry': 1757560924, 'httpOnly': True, 'name': 'NID', 'path': '/', 'sameSite': 'None', 'secure': True, 'value': '522=bVVmtAvJL7W-fVIvlMjhKuVJ6A6ySo0REZk7WdSfMGVamy_uH9VTPA0xOM5n5kdfCJ_wA19LC-9kp9l8W4da22cygDINZH_d-CD1RXssD1c2GAsfube8dUeECdrgp7cI05C1AwNjfS-IHaTZPiwd-caJSgZ1oMzCfSW1jgDcdGutASHTxmyhe2_BozrBjBbPzjiVm6GwQUl6Y-NJq2uLnyK1MOn4F48'}, {'domain': '.google.com', 'expiry': 1744341723, 'httpOnly': False, 'name': 'OGPC', 'path': '/', 'sameSite': 'Lax', 'secure': False, 'value': '19046228-1:'}, {'domain': 'www.google.com', 'expiry': 1741771323, 'httpOnly': False, 'name': 'UULE', 'path': '/', 'sameSite': 'Lax', 'secure': True, 'value': 'a+cm9sZTogMQpwcm9kdWNlcjogMTIKdGltZXN0YW1wOiAxNzQxNzQ5NzIzMDY5MDAwCmxhdGxuZyB7CiAgbGF0aXR1ZGVfZTc6IDM1MTc2Nzk1NgogIGxvbmdpdHVkZV9lNzogMTI5MDYzOTAyMgp9CnJhZGl1czogMTY0MzY4OS43NDY0Nzg0MzE5CnByb3ZlbmFuY2U6IDYK'}, {'domain': '.google.com', 'expiry': 1757301722, 'httpOnly': True, 'name': 'AEC', 'path': '/', 'sameSite': 'Lax', 'secure': True, 'value': 'AVcja2fkHDzWOXyjAjQNtsKt11YouD5vcfl-bPM5lc3NlFF5Ka758fDPbbE'}]\n",
      "추가된 쿠키 정보 확인\n",
      "NID 522=bVVmtAvJL7W-fVIvlMjhKuVJ6A6ySo0REZk7WdSfMGVamy_uH9VTPA0xOM5n5kdfCJ_wA19LC-9kp9l8W4da22cygDINZH_d-CD1RXssD1c2GAsfube8dUeECdrgp7cI05C1AwNjfS-IHaTZPiwd-caJSgZ1oMzCfSW1jgDcdGutASHTxmyhe2_BozrBjBbPzjiVm6GwQUl6Y-NJq2uLnyK1MOn4F48\n",
      "jhm 정현민\n",
      "OGPC 19046228-1:\n",
      "UULE a+cm9sZTogMQpwcm9kdWNlcjogMTIKdGltZXN0YW1wOiAxNzQxNzQ5NzI3NTY0MDAwCmxhdGxuZyB7CiAgbGF0aXR1ZGVfZTc6IDM1MTc2Nzk1NgogIGxvbmdpdHVkZV9lNzogMTI5MDYzOTAyMgp9CnJhZGl1czogMTY0MzY4OS43NDY0Nzg0MzE5CnByb3ZlbmFuY2U6IDYK\n",
      "AEC AVcja2fkHDzWOXyjAjQNtsKt11YouD5vcfl-bPM5lc3NlFF5Ka758fDPbbE\n"
     ]
    }
   ],
   "source": [
    "driver = webdriver.Chrome()\n",
    "driver.get(\"https://www.google.com\")\n",
    "time.sleep(3)\n",
    "\n",
    "print(\"기존 쿠키 정보 출력\")\n",
    "print(driver.get_cookies())\n",
    "\n",
    "# 새로운 쿠키 정보 입력\n",
    "driver.add_cookie({\"name\": \"jhm\", \"value\": \"정현민\"})\n",
    "driver.refresh()\n",
    "time.sleep(3)\n",
    "\n",
    "print(\"현재 쿠키 정보 확인\")\n",
    "cookies = driver.get_cookies()\n",
    "\n",
    "for cookie in cookies:\n",
    "    print(cookie[\"name\"], cookie[\"value\"])\n",
    "\n",
    "\n",
    "time.sleep(5)\n",
    "driver.quit()"
   ]
  },
  {
   "cell_type": "code",
   "execution_count": null,
   "metadata": {},
   "outputs": [],
   "source": [
    "driver = webdriver.Chrome()\n",
    "driver.get(\"https://www.google.com\")\n",
    "time.sleep(3)\n",
    "\n",
    "driver.save_screenshot(\"../data/test_screenshot.png\")\n",
    "driver.quit()\n",
    "\n",
    "# 과제 -> 스크롤을 내리면서 스크린샷 찍기"
   ]
  },
  {
   "cell_type": "code",
   "execution_count": 32,
   "metadata": {},
   "outputs": [],
   "source": [
    "driver = webdriver.Chrome()\n",
    "driver.get(\"https://www.naver.com\")\n",
    "time.sleep(3)\n",
    "\n",
    "body = driver.find_element(By.TAG_NAME, \"body\")\n",
    "time.sleep(3)\n",
    "body.screenshot(\"../data/test_screenshot.png\")\n",
    "driver.quit()\n",
    "\n",
    "# 과제 -> 스크롤을 내리면서 스크린샷 찍기"
   ]
  },
  {
   "cell_type": "code",
   "execution_count": null,
   "metadata": {},
   "outputs": [],
   "source": [
    "# 특정요소가 로드될 때까지 대기(WebDriverWait)\n",
    "from selenium.webdriver.support.ui import WebDriverWait\n",
    "# 대기 조건\n",
    "from selenium.webdriver.support import expected_conditions as EC\n",
    "\n",
    "driver = webdriver.Chrome()\n",
    "driver.get(\"https://www.naver.com\")\n",
    "\n",
    "# name의 값이 q인 요소가 로드될 때까지 10초간 기다린 후 그 요소를 선택함\n",
    "searchBox = WebDriverWait(driver, 10).until(\n",
    "    EC.presence_of_element_located((By.NAME, \"query\")) # 튜플형으로 집어넣어야 함\n",
    ")\n",
    "searchBox.send_keys(\"selenium 대기 테스트\")\n",
    "searchBox.send_keys(Keys.ENTER)\n",
    "time.sleep(5)\n",
    "\n",
    "driver.quit()"
   ]
  },
  {
   "cell_type": "code",
   "execution_count": null,
   "metadata": {},
   "outputs": [],
   "source": [
    "from selenium.webdriver.common.action_chains import ActionChains\n",
    "\n",
    "driver = webdriver.Chrome()\n",
    "driver.get(\"https://www.google.com\")\n",
    "\n",
    "# element에 마우스 오버 이벤트(move_to_element() 메소드를 사용)를 만듬\n",
    "element = driver.find_element(\"link text\", \"Gmail\")\n",
    "actions = ActionChains(driver)  # ActionChains 객체를 새로 만듬\n",
    "actions.move_to_element(element).perform()\n",
    "time.sleep(10)\n",
    "driver.quit()"
   ]
  },
  {
   "cell_type": "code",
   "execution_count": 42,
   "metadata": {},
   "outputs": [],
   "source": [
    "driver = webdriver.Chrome()\n",
    "driver.get(\"https://www.google.com\")\n",
    "\n",
    "searchBox = driver.find_element(\"name\", \"q\")\n",
    "searchBox.send_keys(\"selinium 입력 테스트\")\n",
    "time.sleep(3)\n",
    "searchBox.clear()   # element에 입력된 내용을 지우는 메소드\n",
    "time.sleep(3)\n",
    "driver.quit()"
   ]
  },
  {
   "cell_type": "code",
   "execution_count": null,
   "metadata": {},
   "outputs": [
    {
     "name": "stdout",
     "output_type": "stream",
     "text": [
      "<html itemscope=\"\" itemtype=\"http://schema.org/WebPage\" lang=\"ko\"><head><meta charset=\"UTF-8\"><meta content=\"origin\" name=\"referrer\"><meta content=\"/images/branding/googleg/1x/googleg_standard_color_128dp.png\" itemprop=\"image\"><title>Google</title><script src=\"https://apis.google.com/_/scs/abc-static/_/js/k=gapi.gapi.en.uiLLJjqnhCQ.O/m=gapi_iframes,googleapis_client/rt=j/sv=1/d=1/ed=1/rs=AHpOoo8NP2y291iiPDmfAN0GV3dvCuqlYA/cb=gapi.loaded_0\" nonce=\"\" async=\"\"></script><script nonce=\"\">window._hst=Date.now();</script><script nonce=\"\">(function(){var _g={kEI:'HxzRZ93QKLLM1e8P4OvC6AY',kEXPI:'31',kBL:'p7fy',kOPI:89978449};(function(){var a;((a=window.google)==null?0:a.stvsc)?google.kEI=_g.kEI:window.google=_g;}).call(this);})();(function(){google.sn='webhp';google.kHL='ko';})();(function(){\n",
      "var g=this||self;function k(){return window.google&&window.google.kOPI||null};var l,m=[];function n(a){for(var b;a&&(!a.getAttribute||!(b=a.getAttribute(\"eid\")));)a=a.parentNode;return b||l}function p(a){\n",
      "929 873\n"
     ]
    }
   ],
   "source": [
    "# 브라우저 창 크기 조절하기(set_window_size())\n",
    "\n",
    "driver = webdriver.Chrome()\n",
    "driver.get(\"https://www.google.com\")\n",
    "time.sleep(3)\n",
    "html = driver.page_source\n",
    "print(html[:1000])\n",
    "\n",
    "driver.set_window_size(driver.execute_script(\"return document.body.scrollWidth\"), driver.execute_script(\"return document.body.scrollHeight\"))\n",
    "time.sleep(5)\n",
    "driver.quit()"
   ]
  },
  {
   "cell_type": "code",
   "execution_count": 54,
   "metadata": {},
   "outputs": [],
   "source": [
    "# 파일 업로드 자동화\n",
    "\n",
    "driver = webdriver.Chrome()\n",
    "driver.get(\"https://tus.io/demo.html\")\n",
    "time.sleep(3)\n",
    "\n",
    "# upload = driver.find_element(\"css selector\", \"input['type=file']\")  <- 이렇게 써도 됨\n",
    "upload = driver.find_element(\"xpath\", \"//input[@type='file']\")\n",
    "upload.send_keys(\"C:/JHM/BIGDATA/data/test_screenshot.png\")\n",
    "time.sleep(10)\n",
    "driver.quit()"
   ]
  },
  {
   "cell_type": "code",
   "execution_count": 66,
   "metadata": {},
   "outputs": [
    {
     "name": "stdout",
     "output_type": "stream",
     "text": [
      "Selenium으로 네이버 접속 + ChatGPT API 활용 블로그 글 자동 생성\n",
      "2.8 사이트 자동화하기 - selenium 사용법(1) - 비전공자를 위한 파이썬 완벽 가이드\n",
      "Selenium 자동화 테스트 도구 라이브러리 설명\n",
      "🎭 Playwright vs ✳️ Selenium, 테스트 자동화 툴 비교해보기\n",
      "Selenium 자동화 환경 설정, maven TestNG ChromeDriver\n",
      "[Python] 자동 로그인, 구매 등 매크로 만들기 (selenium 사용)\n",
      "Python, Selenium 기반 웹 자동화 테스트 구현하기\n",
      "Selenium\n",
      "[Selenium] 로그인 자동화 프로그램 (캡차 우회)\n",
      "웹 브라우저(Browserless) 기반 자동화 도구, Playwright와 Selenium🐟\n",
      "[Selenium] UI자동화에서 자주 사용하는 메소드\n",
      "[ 웹 브라우저 자동화 ] 효율적인 웹 애플리케이션 Selenium 모듈\n",
      "selenium을 이용한 웹 페이지 자동화 구현\n",
      "Selenium Manager (Beta)\n",
      "[웹 크롤링]네이버 블로그 업로드 자동화(SELENIUM & ChatGPT)\n"
     ]
    }
   ],
   "source": [
    "# 네이버 검색어 제목 가져오기\n",
    "\n",
    "driver = webdriver.Chrome()\n",
    "\n",
    "driver.get(\"https://www.naver.com\")\n",
    "driver.implicitly_wait(5)\n",
    "\n",
    "element = driver.find_element(\"name\", \"query\")\n",
    "element.send_keys(\"selenium 자동화\")\n",
    "element.submit()\n",
    "driver.implicitly_wait(5)\n",
    "\n",
    "driver.find_element(\"css selector\", \"a.group_more\").click()\n",
    "driver.implicitly_wait(5)\n",
    "\n",
    "titles = driver.find_elements(\"css selector\", \"a.link_tit\")\n",
    "for title in titles:\n",
    "    print(title.text)\n",
    "\n",
    "driver.quit()"
   ]
  },
  {
   "cell_type": "code",
   "execution_count": 98,
   "metadata": {},
   "outputs": [
    {
     "name": "stdout",
     "output_type": "stream",
     "text": [
      "[<selenium.webdriver.remote.webelement.WebElement (session=\"698bd025828b59d7c8d26d7279562800\", element=\"f.4D35DCD27B45D7637199C3FD9130F9B2.d.E3A37DBC751044CFBA5A1A7278A65BC3.e.183\")>, <selenium.webdriver.remote.webelement.WebElement (session=\"698bd025828b59d7c8d26d7279562800\", element=\"f.4D35DCD27B45D7637199C3FD9130F9B2.d.E3A37DBC751044CFBA5A1A7278A65BC3.e.184\")>, <selenium.webdriver.remote.webelement.WebElement (session=\"698bd025828b59d7c8d26d7279562800\", element=\"f.4D35DCD27B45D7637199C3FD9130F9B2.d.E3A37DBC751044CFBA5A1A7278A65BC3.e.185\")>, <selenium.webdriver.remote.webelement.WebElement (session=\"698bd025828b59d7c8d26d7279562800\", element=\"f.4D35DCD27B45D7637199C3FD9130F9B2.d.E3A37DBC751044CFBA5A1A7278A65BC3.e.186\")>, <selenium.webdriver.remote.webelement.WebElement (session=\"698bd025828b59d7c8d26d7279562800\", element=\"f.4D35DCD27B45D7637199C3FD9130F9B2.d.E3A37DBC751044CFBA5A1A7278A65BC3.e.187\")>, <selenium.webdriver.remote.webelement.WebElement (session=\"698bd025828b59d7c8d26d7279562800\", element=\"f.4D35DCD27B45D7637199C3FD9130F9B2.d.E3A37DBC751044CFBA5A1A7278A65BC3.e.188\")>, <selenium.webdriver.remote.webelement.WebElement (session=\"698bd025828b59d7c8d26d7279562800\", element=\"f.4D35DCD27B45D7637199C3FD9130F9B2.d.E3A37DBC751044CFBA5A1A7278A65BC3.e.189\")>, <selenium.webdriver.remote.webelement.WebElement (session=\"698bd025828b59d7c8d26d7279562800\", element=\"f.4D35DCD27B45D7637199C3FD9130F9B2.d.E3A37DBC751044CFBA5A1A7278A65BC3.e.190\")>, <selenium.webdriver.remote.webelement.WebElement (session=\"698bd025828b59d7c8d26d7279562800\", element=\"f.4D35DCD27B45D7637199C3FD9130F9B2.d.E3A37DBC751044CFBA5A1A7278A65BC3.e.191\")>, <selenium.webdriver.remote.webelement.WebElement (session=\"698bd025828b59d7c8d26d7279562800\", element=\"f.4D35DCD27B45D7637199C3FD9130F9B2.d.E3A37DBC751044CFBA5A1A7278A65BC3.e.192\")>, <selenium.webdriver.remote.webelement.WebElement (session=\"698bd025828b59d7c8d26d7279562800\", element=\"f.4D35DCD27B45D7637199C3FD9130F9B2.d.E3A37DBC751044CFBA5A1A7278A65BC3.e.193\")>, <selenium.webdriver.remote.webelement.WebElement (session=\"698bd025828b59d7c8d26d7279562800\", element=\"f.4D35DCD27B45D7637199C3FD9130F9B2.d.E3A37DBC751044CFBA5A1A7278A65BC3.e.194\")>, <selenium.webdriver.remote.webelement.WebElement (session=\"698bd025828b59d7c8d26d7279562800\", element=\"f.4D35DCD27B45D7637199C3FD9130F9B2.d.E3A37DBC751044CFBA5A1A7278A65BC3.e.195\")>, <selenium.webdriver.remote.webelement.WebElement (session=\"698bd025828b59d7c8d26d7279562800\", element=\"f.4D35DCD27B45D7637199C3FD9130F9B2.d.E3A37DBC751044CFBA5A1A7278A65BC3.e.196\")>, <selenium.webdriver.remote.webelement.WebElement (session=\"698bd025828b59d7c8d26d7279562800\", element=\"f.4D35DCD27B45D7637199C3FD9130F9B2.d.E3A37DBC751044CFBA5A1A7278A65BC3.e.197\")>, <selenium.webdriver.remote.webelement.WebElement (session=\"698bd025828b59d7c8d26d7279562800\", element=\"f.4D35DCD27B45D7637199C3FD9130F9B2.d.E3A37DBC751044CFBA5A1A7278A65BC3.e.198\")>, <selenium.webdriver.remote.webelement.WebElement (session=\"698bd025828b59d7c8d26d7279562800\", element=\"f.4D35DCD27B45D7637199C3FD9130F9B2.d.E3A37DBC751044CFBA5A1A7278A65BC3.e.199\")>, <selenium.webdriver.remote.webelement.WebElement (session=\"698bd025828b59d7c8d26d7279562800\", element=\"f.4D35DCD27B45D7637199C3FD9130F9B2.d.E3A37DBC751044CFBA5A1A7278A65BC3.e.200\")>]\n",
      "제목:  Selenium으로 네이버 접속 + ChatGPT API 활용 블로그 글 자동 생성\n",
      "내용:  2024.02.12. 미션 1) Selenium으로 네이버 접속\n",
      "제목:  2.8 사이트 자동화하기 - selenium 사용법(1) - 비전공자를 위한 파이썬 완벽 가이드\n",
      "내용:  2021.12.01. 💻지금까지 이렇게 친절하게 설명하는 코딩 강의는 없었다 [이것이 진짜 크롤링이다 - 기본편] 💵코딩 실력 향상 100% 보장, 실전 파이썬 데이터 수집 강의 (도움 안되면 환불가능) [이것이 진짜 크롤링이다 - 실전편] BeautifulSoup 라이브러리만으로도 다양한 사이트의 정보를 추출할 수 있습니다. 그런데, BeautifulSoup에게는 한계가 있답니다. 그 한계란 무엇일까요? 바로, \"자바스크립트...\n",
      "제목:  Selenium 자동화 테스트 도구 라이브러리 설명\n",
      "내용:  2023.04.09. 자동화 공부를 시작하기에 앞서 셀레니움이 무엇이며, 왜 사용하는지 정리해보고 시작하자. Selenium? - 브라우저 자동화에 널리 쓰이는 툴이다. - 앱 테스팅에 주로 사용되지만, 테스트 용도에만 국한되지는 않는다. - 구글 크롬, 모질라 파이어폭스, 마이크로소프트 IE, Edge, 애플 사파리, 오페라 같은 주요 브라우저의 를 지원한다. -...\n",
      "제목:  🎭 Playwright vs ✳️ Selenium, 테스트 자동화 툴 비교해보기\n",
      "내용:  테스트 자동화 툴, Playwright과 Selenium 비교\n",
      "제목:  Selenium 자동화 환경 설정, maven TestNG ChromeDriver\n",
      "내용:  2023.04.13. selenium-start 자바 프로젝트 설정 - 셀레니움 웹 드라이버는 브라우저 자동화를 도와주는 라이브러리 이다. - 브라우저 자동화를 위해 필요한 것은 다음과 같다. (1)... 그리고 메이븐은 프로젝트 빌드에 필요한 라이브러리를 으로 다운로드 한다. - 이클립스와 메이븐을 사용하여, 셀레니움 웹드라이버 테스트 프레임워크를 하나의 프로그램에서...\n",
      "제목:  [Python] 자동 로그인, 구매 등 매크로 만들기 (selenium 사용)\n",
      "내용:  2022.01.20. 웹 사이트 열기 (chrome) 먼저 chromedriver-autoinstaller, selenium을 다운받고 코드를 실행해야 합니다. # 파일명 : main.py import chromedriver... set_window_size(1920, 1080) return driver 만약 위 코드를 사용하고 자동 로그인(아래에 코드 있음)을 시도했을 때 로그인이 막힌다면, 다음 코드를...\n",
      "제목:  Python, Selenium 기반 웹 자동화 테스트 구현하기\n",
      "내용:  2023.02.20. 웹 사이트에서 정보를 추출하는 크롤링 또는 테스트 자동화를 구현할 때 셀레니움 (Selenium) 라이브러리를 많이 사용합니다. 이번 포스팅에서는파이썬 개발환경 구축과 셀레니움으로 웹 테스트 자동화를 구현하는 방법에 대해 알아보겠습니다. 파이썬 프로그래밍 환경 구축 파이썬은 언어는 아래와 같은 특징이 있습니다. 인터프리터 언어 (코드 한줄 작성 후 바...\n",
      "제목:  Selenium\n",
      "내용:  Selenium automates browsers. That's it!\n",
      "제목:  [Selenium] 로그인 자동화 프로그램 (캡차 우회)\n",
      "내용:  2024.10.11. 아래는 코드는 네이버 로그인 캡차를 우회하지 않는 코드이다 from selenium import webdriver from selenium.webdriver.common.by import By from selenium.... 돌려보면 아래처럼 다시 로그인이 잘 된다!! 네이버 로그인이 필요한 다양한 서비스들을 할 수 있지만 절대 악용은 하지 말아야한다.\n",
      "제목:  웹 브라우저(Browserless) 기반 자동화 도구, Playwright와 Selenium🐟\n",
      "내용:  2024.06.20. Playwright와 Selenium은 둘 다 웹 브라우저를 자동화하여 웹 스크레이핑이나 웹 테스팅 등에 널리 사용되는 도구입니다. 최근에는 Playwright가 많은 주목을 받고 있으며, 이는 그 특징과 성능 때문입니다. 여러분의 회사에서 적합한 도구를 선택하는데 도움이 되도록 두 도구의 주요 차이점과 장단점을 비교해 드리겠습니다.기술적 특징 및 지...\n",
      "제목:  [Selenium] UI자동화에서 자주 사용하는 메소드\n",
      "내용:  2024.09.13. 위 글은 웹 UI 자동화 스크립트를 작성할 때 자주 사용하는 메서드를 기억하기 위해 기록하는 글입니다. 😊그럼 어김없이 피.언.감🙇♂️ (피드백은 언제나 감사합니다.)*드라이버는 크롬 드라이버 기준입니다.*✔️ WebDriver.get(\"url\")웹드라이버가 지정된 URL로 브라우저를 이동시키는 메서드이다.from import we...\n",
      "제목:  [ 웹 브라우저 자동화 ] 효율적인 웹 애플리케이션 Selenium 모듈\n",
      "내용:  2024.09.27. seleium 웹 브라우저 자동화 도구 활용법 [ Python으로 웹 작업 자동화 ]Selenium으로 자동화된 테스트와 웹 스크래핑 효율적으로 구현하기Selenium은 웹 브라우저를 프로그래밍적으로 제어할 수 있는 오픈 소스 [ 웹 브라우저 자동화 도구]로, 주로 P...\n",
      "제목:  selenium을 이용한 웹 페이지 자동화 구현\n",
      "내용:  2022.09.16. 웹 인터페이스를 사용하는 보안 솔루션을 이용하는데, 매일 전날 일일 통계 보고서를 출력해야 하는 일이 생겼다. 그래서 '한 번 자동화로 구현해보자'라는 생각을 가지게 되었고, 언제나 그랬듯이 신입은 시간이 매우 널널하다.. 바로 구현을 해봤다. 선택 이유 선택 이유는 아래 2가지다. 다른 언어로는 어떻게 해야할지 감도 오지 않았다. 1...\n",
      "제목:  Selenium Manager (Beta)\n",
      "내용:  2025.01.06. Selenium uses the native support implemented by each browser to carry out the automation process. For this reason, Selenium users need to place a component called driver (chromedriver, geckodriver, msedgedriver, etc.) between the script using the Selenium API and the browser. For many years, managing these drivers was a manual process for users. This way, they had to download the required driver for a browser (chromedriver for Chrome, geckodriver for Firefox, etc.) and place it in the P...\n",
      "제목:  [웹 크롤링]네이버 블로그 업로드 자동화(SELENIUM & ChatGPT)\n",
      "내용:  2024.05.30. [웹 크롤링]네이버 블로그 업로드 자동화(SELENIUM & ChatGPT)1. 필요한 라이브러리 불러오기import seleniumimport timefrom selenium import webdriverfrom selenium.webdriver.common.action_chains import ActionChainsimport pyperclip #...\n"
     ]
    }
   ],
   "source": [
    "# 네이버 검색 본문들 긁어오기\n",
    "\n",
    "driver = webdriver.Chrome()\n",
    "driver.get(\"https://www.naver.com\")\n",
    "driver.implicitly_wait(5)\n",
    "\n",
    "search = driver.find_element(\"name\", \"query\")\n",
    "search.send_keys(\"selenium 자동화\")\n",
    "search.send_keys(Keys.ENTER)\n",
    "driver.implicitly_wait(5)\n",
    "\n",
    "button = driver.find_element(\"css selector\", \"#main_pack > section.sc_new.sp_ntotal._sp_ntotal._prs_web_gen._fe_root_web_gend > div > div > a\")\n",
    "button.click()\n",
    "driver.implicitly_wait(5)\n",
    "\n",
    "lists = driver.find_elements(\"css selector\", \"li.bx\")\n",
    "\n",
    "print(lists)\n",
    "\n",
    "for list in lists:\n",
    "    try:\n",
    "        title = list.find_element(\"css selector\", \"a.link_tit\")\n",
    "        content = list.find_element(\"css selector\", \"a.total_dsc\")\n",
    "        print(\"제목: \", title.text)\n",
    "        print(\"내용: \", content.text)\n",
    "    except: pass\n",
    "\n",
    "driver.quit()"
   ]
  },
  {
   "cell_type": "code",
   "execution_count": 101,
   "metadata": {},
   "outputs": [],
   "source": [
    "# 이미지 긁어오기"
   ]
  }
 ],
 "metadata": {
  "kernelspec": {
   "display_name": "base",
   "language": "python",
   "name": "python3"
  },
  "language_info": {
   "codemirror_mode": {
    "name": "ipython",
    "version": 3
   },
   "file_extension": ".py",
   "mimetype": "text/x-python",
   "name": "python",
   "nbconvert_exporter": "python",
   "pygments_lexer": "ipython3",
   "version": "3.12.7"
  }
 },
 "nbformat": 4,
 "nbformat_minor": 2
}
