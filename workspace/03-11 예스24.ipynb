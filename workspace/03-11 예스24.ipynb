{
 "cells": [
  {
   "cell_type": "code",
   "execution_count": 63,
   "metadata": {},
   "outputs": [],
   "source": [
    "from bs4 import BeautifulSoup as bs\n",
    "import requests\n",
    "import pandas as pd\n",
    "import urllib.request as ureq\n",
    "import re"
   ]
  },
  {
   "cell_type": "code",
   "execution_count": null,
   "metadata": {},
   "outputs": [],
   "source": [
    "def saveImg(src, title):\n",
    "    pattern = r'[가-힣a-zA-Z0-9]+'\n",
    "    # [가-힣]: 한글 전체를 뜻하는 정규표현식 문법\n",
    "    # [a-z]: 영소문자를 뜻하는 정규표현식 문법\n",
    "    # [A-Z]: 영대문자를 뜻하는 정규표현식 문법\n",
    "    # *: 이러한 문자열이 0자 이상이다라는 뜻의 정규표현식 문법(즉 없어도 됨)\n",
    "    # +: 이러한 문자열이 1자 이상이다라는 뜻의 정규표현식 문법\n",
    "\n",
    "    result = re.findall(pattern, title)\n",
    "    # re.findall(): title에서 pattern에 해당되도록 정규표현식을 만들어 결과 리스트를 반환하는 함수\n",
    "\n",
    "    result = ' '.join(result)   # join 앞에 ' '가 뭐임?: 리스트 항목 사이사이에 들어갈 문자를 뜻하는거임\n",
    "\n",
    "    path = f'../data/images/{result}.jpg'\n",
    "\n",
    "    ureq.urlretrieve(src, path)\n",
    "    print(path, \"저장됨.\")"
   ]
  },
  {
   "cell_type": "code",
   "execution_count": 65,
   "metadata": {},
   "outputs": [
    {
     "name": "stdout",
     "output_type": "stream",
     "text": [
      "../data/images/Do it 점프 투 파이썬.jpg 저장됨.\n",
      "../data/images/두근두근 파이썬.jpg 저장됨.\n",
      "../data/images/파이썬 for Beginner.jpg 저장됨.\n",
      "../data/images/혼자 공부하는 파이썬.jpg 저장됨.\n",
      "../data/images/난생처음 파이썬 프로그래밍.jpg 저장됨.\n",
      "../data/images/밑바닥부터 시작하는 딥러닝 1.jpg 저장됨.\n",
      "../data/images/으뜸 파이썬.jpg 저장됨.\n",
      "../data/images/파워 유저를 위한 파이썬 EXPRESS.jpg 저장됨.\n",
      "../data/images/혼자 공부하는 머신러닝 딥러닝.jpg 저장됨.\n",
      "../data/images/난생처음 컴퓨팅 사고 with 파이썬.jpg 저장됨.\n",
      "../data/images/따라하며 배우는 파이썬과 데이터 과학.jpg 저장됨.\n",
      "../data/images/혼자 만들면서 공부하는 파이썬.jpg 저장됨.\n",
      "../data/images/파이썬으로 쉽게 배우는 자료구조.jpg 저장됨.\n",
      "../data/images/데이터 과학을 위한 기초수학 with 파이썬.jpg 저장됨.\n",
      "../data/images/컴퓨팅 기반 문제해결 with 파이썬.jpg 저장됨.\n",
      "../data/images/새내기 파이썬.jpg 저장됨.\n",
      "../data/images/수학자와 함께하는 인공지능 수학 with 파이썬.jpg 저장됨.\n",
      "../data/images/최신 파이썬 완전정복 기초에서 심화까지.jpg 저장됨.\n",
      "../data/images/코딩 자율학습 나도코딩의 파이썬 입문.jpg 저장됨.\n",
      "../data/images/파이썬 업무 자동화 일잘러 되기 챗GPT.jpg 저장됨.\n",
      "../data/images/어서와 파이썬은 처음이지.jpg 저장됨.\n",
      "../data/images/진짜 업무에 쓰는 챗GPT 노코드 데이터 분석.jpg 저장됨.\n",
      "../data/images/대표 전략으로 입문하는 미국 주식 퀀트 투자.jpg 저장됨.\n",
      "../data/images/파이썬으로 웹 크롤러 만들기.jpg 저장됨.\n",
      "../data/images/야구 데이터로 배우는 파이썬.jpg 저장됨.\n",
      "../data/images/2025 시대에듀 빅데이터분석기사 실기 파이썬 한권으로 끝내기.jpg 저장됨.\n",
      "../data/images/시간순삭 파이썬.jpg 저장됨.\n",
      "../data/images/파이썬과 JAX로 추천 시스템 구축하기.jpg 저장됨.\n",
      "../data/images/데이터 과학을 위한 소프트웨어 엔지니어링.jpg 저장됨.\n",
      "../data/images/자료구조와 알고리즘 with 파이썬.jpg 저장됨.\n",
      "../data/images/파이썬으로 배우는 자료구조.jpg 저장됨.\n",
      "../data/images/2025 최적합 빅데이터분석기사 실기 파이썬.jpg 저장됨.\n",
      "../data/images/파이썬 자료구조와 알고리즘 for Beginner.jpg 저장됨.\n",
      "../data/images/실전 코드부터 배우는 실무 활용 파이썬 with 챗GPT.jpg 저장됨.\n",
      "../data/images/NLP와 LLM 실전 가이드.jpg 저장됨.\n",
      "../data/images/Do it 자료구조와 함께 배우는 알고리즘 입문 파이썬 편.jpg 저장됨.\n",
      "../data/images/파이썬 워크북.jpg 저장됨.\n",
      "../data/images/Streamlit 으로 프로젝트 한방에 끝내기 With 파이썬.jpg 저장됨.\n",
      "../data/images/마이크로 파이썬으로 만드는 스마트 자동차.jpg 저장됨.\n",
      "../data/images/마이크로 파이썬으로 만드는 드론과 사물인터넷.jpg 저장됨.\n",
      "../data/images/모두의 데이터 분석 with 파이썬.jpg 저장됨.\n",
      "../data/images/정말 쉽네 챗GPT 구글 업무 자동화 이게 되네 업무 자동화 미친 활용 앱스 스크립트 with 챗GPT 파이썬 업무 자동화 일잘러 되기 챗GPT 세트.jpg 저장됨.\n",
      "../data/images/파이썬 프로그래밍.jpg 저장됨.\n",
      "../data/images/친절한 파이썬 프로그래밍.jpg 저장됨.\n",
      "../data/images/비전공자가 배우는 파이썬.jpg 저장됨.\n",
      "../data/images/선생님을 위한 8282 업무 자동화 with AI 파이썬 노코드.jpg 저장됨.\n",
      "../data/images/2025 단 축 키 빅데이터 분석기사 실기 파이썬 작업형.jpg 저장됨.\n",
      "../data/images/자연어 처리를 위한 허깅페이스 트랜스포머 하드 트레이닝.jpg 저장됨.\n"
     ]
    }
   ],
   "source": [
    "books = []\n",
    "\n",
    "baseUrl = \"https://www.yes24.com/Product/Search?query=%25ED%258C%258C%25EC%259D%25B4%25EC%258D%25AC&page=\"\n",
    "\n",
    "for i in range(2):\n",
    "    url = baseUrl + str(i+1)\n",
    "    soup = bs(requests.get(url).text, \"html.parser\")\n",
    "\n",
    "    itemList = soup.select(\"#yesSchList > li\")\n",
    "    for item in itemList:\n",
    "        title = item.select_one(\"a.gd_name\").text\n",
    "        price = int(item.select_one(\"div.info_price > strong.txt_num > em\").text.replace(\",\", \"\"))\n",
    "        author = item.select_one(\"span.info_auth > a\").text\n",
    "        rating = item.select_one(\"span.rating_grade > em\")\n",
    "        if rating != None:\n",
    "            rating = rating.text\n",
    "        else:\n",
    "            rating = \"0.0\"\n",
    "        imgSrc = item.select_one(\"img.lazy\")[\"data-original\"]\n",
    "        \n",
    "        books.append((title, price, author, rating))\n",
    "        saveImg(imgSrc, title)"
   ]
  },
  {
   "cell_type": "code",
   "execution_count": null,
   "metadata": {},
   "outputs": [],
   "source": []
  }
 ],
 "metadata": {
  "kernelspec": {
   "display_name": "base",
   "language": "python",
   "name": "python3"
  },
  "language_info": {
   "codemirror_mode": {
    "name": "ipython",
    "version": 3
   },
   "file_extension": ".py",
   "mimetype": "text/x-python",
   "name": "python",
   "nbconvert_exporter": "python",
   "pygments_lexer": "ipython3",
   "version": "3.12.7"
  }
 },
 "nbformat": 4,
 "nbformat_minor": 2
}
