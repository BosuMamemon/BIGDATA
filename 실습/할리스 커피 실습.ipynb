{
 "cells": [
  {
   "cell_type": "code",
   "execution_count": 17,
   "metadata": {},
   "outputs": [
    {
     "name": "stdout",
     "output_type": "stream",
     "text": [
      "Requirement already satisfied: bs4 in c:\\users\\administrator\\appdata\\local\\programs\\python\\python313\\lib\\site-packages (0.0.2)\n",
      "Requirement already satisfied: beautifulsoup4 in c:\\users\\administrator\\appdata\\local\\programs\\python\\python313\\lib\\site-packages (from bs4) (4.13.3)\n",
      "Requirement already satisfied: soupsieve>1.2 in c:\\users\\administrator\\appdata\\local\\programs\\python\\python313\\lib\\site-packages (from beautifulsoup4->bs4) (2.6)\n",
      "Requirement already satisfied: typing-extensions>=4.0.0 in c:\\users\\administrator\\appdata\\local\\programs\\python\\python313\\lib\\site-packages (from beautifulsoup4->bs4) (4.12.2)\n"
     ]
    },
    {
     "name": "stderr",
     "output_type": "stream",
     "text": [
      "\n",
      "[notice] A new release of pip is available: 24.2 -> 25.0.1\n",
      "[notice] To update, run: python.exe -m pip install --upgrade pip\n"
     ]
    },
    {
     "name": "stdout",
     "output_type": "stream",
     "text": [
      "Collecting pandas\n",
      "  Downloading pandas-2.2.3-cp313-cp313-win_amd64.whl.metadata (19 kB)\n",
      "Collecting numpy>=1.26.0 (from pandas)\n",
      "  Downloading numpy-2.2.3-cp313-cp313-win_amd64.whl.metadata (60 kB)\n",
      "Requirement already satisfied: python-dateutil>=2.8.2 in c:\\users\\administrator\\appdata\\roaming\\python\\python313\\site-packages (from pandas) (2.9.0.post0)\n",
      "Collecting pytz>=2020.1 (from pandas)\n",
      "  Downloading pytz-2025.1-py2.py3-none-any.whl.metadata (22 kB)\n",
      "Collecting tzdata>=2022.7 (from pandas)\n",
      "  Downloading tzdata-2025.1-py2.py3-none-any.whl.metadata (1.4 kB)\n",
      "Requirement already satisfied: six>=1.5 in c:\\users\\administrator\\appdata\\roaming\\python\\python313\\site-packages (from python-dateutil>=2.8.2->pandas) (1.17.0)\n",
      "Downloading pandas-2.2.3-cp313-cp313-win_amd64.whl (11.5 MB)\n",
      "   ---------------------------------------- 0.0/11.5 MB ? eta -:--:--\n",
      "   ---------------------------------------  11.3/11.5 MB 89.1 MB/s eta 0:00:01\n",
      "   ---------------------------------------- 11.5/11.5 MB 34.4 MB/s eta 0:00:00\n",
      "Downloading numpy-2.2.3-cp313-cp313-win_amd64.whl (12.6 MB)\n",
      "   ---------------------------------------- 0.0/12.6 MB ? eta -:--:--\n",
      "   ---------------------------------------  12.6/12.6 MB 101.7 MB/s eta 0:00:01\n",
      "   ---------------------------------------- 12.6/12.6 MB 58.1 MB/s eta 0:00:00\n",
      "Downloading pytz-2025.1-py2.py3-none-any.whl (507 kB)\n",
      "Downloading tzdata-2025.1-py2.py3-none-any.whl (346 kB)\n",
      "Installing collected packages: pytz, tzdata, numpy, pandas\n",
      "Successfully installed numpy-2.2.3 pandas-2.2.3 pytz-2025.1 tzdata-2025.1\n"
     ]
    },
    {
     "name": "stderr",
     "output_type": "stream",
     "text": [
      "\n",
      "[notice] A new release of pip is available: 24.2 -> 25.0.1\n",
      "[notice] To update, run: python.exe -m pip install --upgrade pip\n"
     ]
    }
   ],
   "source": [
    "# 모듈 설치\n",
    "! pip install bs4\n",
    "! pip install pandas"
   ]
  },
  {
   "cell_type": "code",
   "execution_count": 18,
   "metadata": {},
   "outputs": [],
   "source": [
    "# 모듈 임포트\n",
    "from bs4 import BeautifulSoup as bs\n",
    "import urllib.request as req\n",
    "import pandas as pd"
   ]
  },
  {
   "cell_type": "code",
   "execution_count": 22,
   "metadata": {},
   "outputs": [],
   "source": [
    "# 결과 리스트 생성\n",
    "result = []"
   ]
  },
  {
   "cell_type": "code",
   "execution_count": 23,
   "metadata": {},
   "outputs": [],
   "source": [
    "# 웹 크롤링\n",
    "for page in range(1, 50):\n",
    "    url = \"https://www.hollys.co.kr/store/korea/korStore2.do?pageNo=%d&sido=&gugun=&store=\" %page\n",
    "    html = req.urlopen(url)\n",
    "    soup = bs(html, \"html.parser\")\n",
    "    tbody = soup.find(\"tbody\")\n",
    "    stores_html = tbody.find_all(\"tr\")\n",
    "    for store in stores_html:\n",
    "        if len(store) <= 3: break\n",
    "        store_td = store.find_all(\"td\")\n",
    "        store_sido = store_td[0].text\n",
    "        store_name = store_td[1].text\n",
    "        store_address = store_td[3].text\n",
    "        store_tel = store_td[5].text\n",
    "        result.append((store_sido, store_name, store_address, store_tel))\n",
    "     \n"
   ]
  },
  {
   "cell_type": "code",
   "execution_count": 24,
   "metadata": {},
   "outputs": [],
   "source": [
    "# 크롤링 데이터 DATAFRAME 생성\n",
    "df = pd.DataFrame(result, columns=(\"SIDO-GU\", \"STORE\", \"ADDRESS\", \"TEL\"))"
   ]
  },
  {
   "cell_type": "code",
   "execution_count": 25,
   "metadata": {},
   "outputs": [],
   "source": [
    "# 크롤링 데이터 저장\n",
    "df.to_csv(\"../data/hollysHyeonMinChoiGo.csv\", index=True, encoding=\"utf-8\")"
   ]
  },
  {
   "cell_type": "code",
   "execution_count": 26,
   "metadata": {},
   "outputs": [
    {
     "data": {
      "text/html": [
       "<div>\n",
       "<style scoped>\n",
       "    .dataframe tbody tr th:only-of-type {\n",
       "        vertical-align: middle;\n",
       "    }\n",
       "\n",
       "    .dataframe tbody tr th {\n",
       "        vertical-align: top;\n",
       "    }\n",
       "\n",
       "    .dataframe thead th {\n",
       "        text-align: right;\n",
       "    }\n",
       "</style>\n",
       "<table border=\"1\" class=\"dataframe\">\n",
       "  <thead>\n",
       "    <tr style=\"text-align: right;\">\n",
       "      <th></th>\n",
       "      <th>SIDO-GU</th>\n",
       "      <th>STORE</th>\n",
       "      <th>ADDRESS</th>\n",
       "      <th>TEL</th>\n",
       "    </tr>\n",
       "  </thead>\n",
       "  <tbody>\n",
       "    <tr>\n",
       "      <th>0</th>\n",
       "      <td>경남 진주시</td>\n",
       "      <td>경상국립대학생회관점</td>\n",
       "      <td>경상남도 진주시 진주대로 501 경상국립대 학생회관 1층</td>\n",
       "      <td>055-772-0931</td>\n",
       "    </tr>\n",
       "    <tr>\n",
       "      <th>1</th>\n",
       "      <td>서울 양천구</td>\n",
       "      <td>서서울공원점2</td>\n",
       "      <td>서울특별시 양천구 남부순환로58길 37 신월동 205-36</td>\n",
       "      <td>070-4277-6756</td>\n",
       "    </tr>\n",
       "    <tr>\n",
       "      <th>2</th>\n",
       "      <td>전북 전주시 덕진구</td>\n",
       "      <td>전북대 후생관점</td>\n",
       "      <td>전북특별자치도 전주시 덕진구 백제대로 567 후생관 1층</td>\n",
       "      <td>063-270-2174</td>\n",
       "    </tr>\n",
       "    <tr>\n",
       "      <th>3</th>\n",
       "      <td>전북 전주시 덕진구</td>\n",
       "      <td>전북대 진수당점</td>\n",
       "      <td>전북 전주시 덕진구 백제대로 567 (전북대 진수당 연구동 1층) .</td>\n",
       "      <td>063-270-4350</td>\n",
       "    </tr>\n",
       "    <tr>\n",
       "      <th>4</th>\n",
       "      <td>전북 전주시 덕진구</td>\n",
       "      <td>전북대 중도라운지점</td>\n",
       "      <td>전북 전주시 덕진구 백제대로 567 중앙도서관 1층</td>\n",
       "      <td>.</td>\n",
       "    </tr>\n",
       "    <tr>\n",
       "      <th>...</th>\n",
       "      <td>...</td>\n",
       "      <td>...</td>\n",
       "      <td>...</td>\n",
       "      <td>...</td>\n",
       "    </tr>\n",
       "    <tr>\n",
       "      <th>481</th>\n",
       "      <td>서울 마포구</td>\n",
       "      <td>합정역점</td>\n",
       "      <td>서울특별시 마포구 양화로 36 (합정동 374-1) 할리스</td>\n",
       "      <td>02-6204-1234</td>\n",
       "    </tr>\n",
       "    <tr>\n",
       "      <th>482</th>\n",
       "      <td>부산 해운대구</td>\n",
       "      <td>부산달맞이점</td>\n",
       "      <td>부산광역시 해운대구 달맞이길 199, 2~3층 (중동 1488-14) 할리스</td>\n",
       "      <td>051-731-3410</td>\n",
       "    </tr>\n",
       "    <tr>\n",
       "      <th>483</th>\n",
       "      <td>서울 관악구</td>\n",
       "      <td>신림점</td>\n",
       "      <td>서울특별시 관악구 신림로 353-1</td>\n",
       "      <td>02-877-0019</td>\n",
       "    </tr>\n",
       "    <tr>\n",
       "      <th>484</th>\n",
       "      <td>서울 중구</td>\n",
       "      <td>태평로점</td>\n",
       "      <td>서울특별시 중구 세종대로 64, 해남빌딩 1층 (태평로2가 70-5) 할리스</td>\n",
       "      <td>02-755-7795</td>\n",
       "    </tr>\n",
       "    <tr>\n",
       "      <th>485</th>\n",
       "      <td>서울 서대문구</td>\n",
       "      <td>신촌점</td>\n",
       "      <td>서울특별시 서대문구 연세로 34 (창천동 31-12)  할리스</td>\n",
       "      <td>02-393-2004</td>\n",
       "    </tr>\n",
       "  </tbody>\n",
       "</table>\n",
       "<p>486 rows × 4 columns</p>\n",
       "</div>"
      ],
      "text/plain": [
       "        SIDO-GU       STORE                                     ADDRESS  \\\n",
       "0        경남 진주시  경상국립대학생회관점             경상남도 진주시 진주대로 501 경상국립대 학생회관 1층   \n",
       "1        서울 양천구     서서울공원점2            서울특별시 양천구 남부순환로58길 37 신월동 205-36   \n",
       "2    전북 전주시 덕진구    전북대 후생관점             전북특별자치도 전주시 덕진구 백제대로 567 후생관 1층   \n",
       "3    전북 전주시 덕진구    전북대 진수당점      전북 전주시 덕진구 백제대로 567 (전북대 진수당 연구동 1층) .   \n",
       "4    전북 전주시 덕진구  전북대 중도라운지점                전북 전주시 덕진구 백제대로 567 중앙도서관 1층   \n",
       "..          ...         ...                                         ...   \n",
       "481      서울 마포구        합정역점            서울특별시 마포구 양화로 36 (합정동 374-1) 할리스   \n",
       "482     부산 해운대구      부산달맞이점  부산광역시 해운대구 달맞이길 199, 2~3층 (중동 1488-14) 할리스   \n",
       "483      서울 관악구         신림점                         서울특별시 관악구 신림로 353-1   \n",
       "484       서울 중구        태평로점  서울특별시 중구 세종대로 64, 해남빌딩 1층 (태평로2가 70-5) 할리스   \n",
       "485     서울 서대문구         신촌점          서울특별시 서대문구 연세로 34 (창천동 31-12)  할리스   \n",
       "\n",
       "               TEL  \n",
       "0     055-772-0931  \n",
       "1    070-4277-6756  \n",
       "2     063-270-2174  \n",
       "3     063-270-4350  \n",
       "4                .  \n",
       "..             ...  \n",
       "481   02-6204-1234  \n",
       "482   051-731-3410  \n",
       "483    02-877-0019  \n",
       "484    02-755-7795  \n",
       "485    02-393-2004  \n",
       "\n",
       "[486 rows x 4 columns]"
      ]
     },
     "execution_count": 26,
     "metadata": {},
     "output_type": "execute_result"
    }
   ],
   "source": [
    "df"
   ]
  }
 ],
 "metadata": {
  "kernelspec": {
   "display_name": "Python 3",
   "language": "python",
   "name": "python3"
  },
  "language_info": {
   "codemirror_mode": {
    "name": "ipython",
    "version": 3
   },
   "file_extension": ".py",
   "mimetype": "text/x-python",
   "name": "python",
   "nbconvert_exporter": "python",
   "pygments_lexer": "ipython3",
   "version": "3.13.0"
  }
 },
 "nbformat": 4,
 "nbformat_minor": 2
}
