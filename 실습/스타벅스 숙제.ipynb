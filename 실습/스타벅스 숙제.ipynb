{
 "cells": [
  {
   "cell_type": "code",
   "execution_count": 5,
   "metadata": {},
   "outputs": [
    {
     "name": "stdout",
     "output_type": "stream",
     "text": [
      "Requirement already satisfied: selenium in c:\\users\\administrator\\appdata\\local\\programs\\python\\python313\\lib\\site-packages (4.29.0)\n",
      "Requirement already satisfied: urllib3<3,>=1.26 in c:\\users\\administrator\\appdata\\local\\programs\\python\\python313\\lib\\site-packages (from urllib3[socks]<3,>=1.26->selenium) (2.3.0)\n",
      "Requirement already satisfied: trio~=0.17 in c:\\users\\administrator\\appdata\\local\\programs\\python\\python313\\lib\\site-packages (from selenium) (0.29.0)\n",
      "Requirement already satisfied: trio-websocket~=0.9 in c:\\users\\administrator\\appdata\\local\\programs\\python\\python313\\lib\\site-packages (from selenium) (0.12.2)\n",
      "Requirement already satisfied: certifi>=2021.10.8 in c:\\users\\administrator\\appdata\\local\\programs\\python\\python313\\lib\\site-packages (from selenium) (2025.1.31)\n",
      "Requirement already satisfied: typing_extensions~=4.9 in c:\\users\\administrator\\appdata\\local\\programs\\python\\python313\\lib\\site-packages (from selenium) (4.12.2)\n",
      "Requirement already satisfied: websocket-client~=1.8 in c:\\users\\administrator\\appdata\\local\\programs\\python\\python313\\lib\\site-packages (from selenium) (1.8.0)\n",
      "Requirement already satisfied: attrs>=23.2.0 in c:\\users\\administrator\\appdata\\local\\programs\\python\\python313\\lib\\site-packages (from trio~=0.17->selenium) (25.3.0)\n",
      "Requirement already satisfied: sortedcontainers in c:\\users\\administrator\\appdata\\local\\programs\\python\\python313\\lib\\site-packages (from trio~=0.17->selenium) (2.4.0)\n",
      "Requirement already satisfied: idna in c:\\users\\administrator\\appdata\\local\\programs\\python\\python313\\lib\\site-packages (from trio~=0.17->selenium) (3.10)\n",
      "Requirement already satisfied: outcome in c:\\users\\administrator\\appdata\\local\\programs\\python\\python313\\lib\\site-packages (from trio~=0.17->selenium) (1.3.0.post0)\n",
      "Requirement already satisfied: sniffio>=1.3.0 in c:\\users\\administrator\\appdata\\local\\programs\\python\\python313\\lib\\site-packages (from trio~=0.17->selenium) (1.3.1)\n",
      "Requirement already satisfied: cffi>=1.14 in c:\\users\\administrator\\appdata\\local\\programs\\python\\python313\\lib\\site-packages (from trio~=0.17->selenium) (1.17.1)\n",
      "Requirement already satisfied: wsproto>=0.14 in c:\\users\\administrator\\appdata\\local\\programs\\python\\python313\\lib\\site-packages (from trio-websocket~=0.9->selenium) (1.2.0)\n",
      "Requirement already satisfied: pysocks!=1.5.7,<2.0,>=1.5.6 in c:\\users\\administrator\\appdata\\local\\programs\\python\\python313\\lib\\site-packages (from urllib3[socks]<3,>=1.26->selenium) (1.7.1)\n",
      "Requirement already satisfied: pycparser in c:\\users\\administrator\\appdata\\local\\programs\\python\\python313\\lib\\site-packages (from cffi>=1.14->trio~=0.17->selenium) (2.22)\n",
      "Requirement already satisfied: h11<1,>=0.9.0 in c:\\users\\administrator\\appdata\\local\\programs\\python\\python313\\lib\\site-packages (from wsproto>=0.14->trio-websocket~=0.9->selenium) (0.14.0)\n"
     ]
    },
    {
     "name": "stderr",
     "output_type": "stream",
     "text": [
      "\n",
      "[notice] A new release of pip is available: 24.2 -> 25.0.1\n",
      "[notice] To update, run: python.exe -m pip install --upgrade pip\n"
     ]
    },
    {
     "name": "stdout",
     "output_type": "stream",
     "text": [
      "Collecting pymysql\n",
      "  Downloading PyMySQL-1.1.1-py3-none-any.whl.metadata (4.4 kB)\n",
      "Downloading PyMySQL-1.1.1-py3-none-any.whl (44 kB)\n",
      "Installing collected packages: pymysql\n",
      "Successfully installed pymysql-1.1.1\n"
     ]
    },
    {
     "name": "stderr",
     "output_type": "stream",
     "text": [
      "\n",
      "[notice] A new release of pip is available: 24.2 -> 25.0.1\n",
      "[notice] To update, run: python.exe -m pip install --upgrade pip\n"
     ]
    }
   ],
   "source": [
    "! pip install selenium\n",
    "! pip install pymysql"
   ]
  },
  {
   "cell_type": "code",
   "execution_count": 11,
   "metadata": {},
   "outputs": [],
   "source": [
    "from selenium import webdriver\n",
    "from selenium.webdriver.common.by import By\n",
    "import time\n",
    "import pandas as pd\n",
    "import pymysql"
   ]
  },
  {
   "cell_type": "code",
   "execution_count": 14,
   "metadata": {},
   "outputs": [],
   "source": [
    "# 결과 튜플 리스트\n",
    "result = []\n",
    "\n",
    "# 크롬으로 사이트 열기 (지역 검색까지)\n",
    "driver = webdriver.Chrome()\n",
    "driver.get(\"https://www.starbucks.co.kr/store/store_map.do\")\n",
    "driver.implicitly_wait(30)\n",
    "\n",
    "sido_list = [\"서울\", \"경기\", \"광주\", \"대구\", \"대전\", \"부산\", \"울산\", \"인천\", \"강원\", \"경남\", \"경북\", \"전남\", \"전북\", \"충남\", \"충북\", \"제주\", \"세종\"]\n",
    "\n",
    "# 시도별 점포 데이터 크롤링\n",
    "for sido in sido_list:\n",
    "    driver.find_element(By.LINK_TEXT, \"지역 검색\").click()\n",
    "    driver.implicitly_wait(30)\n",
    "    driver.find_element(By.LINK_TEXT, sido).click()\n",
    "    driver.implicitly_wait(30)\n",
    "    if sido != \"세종\":\n",
    "        driver.find_element(By.LINK_TEXT, \"전체\").click()\n",
    "        driver.execute_script(\"document.querySelector('#mCSB_3').style.cssText = 'overflow: visible;'\")\n",
    "        time.sleep(10)\n",
    "        store_list = driver.find_elements(By.CSS_SELECTOR, \"#mCSB_3_container > ul > li\")\n",
    "        for store in store_list:\n",
    "            name = store.get_attribute(\"data-name\")\n",
    "            address_tel = store.find_element(By.TAG_NAME, \"p\").text.split(\"\\n\")\n",
    "            address = address_tel[0]\n",
    "            tel = address_tel[1]\n",
    "            latitude = store.get_attribute(\"data-lat\")\n",
    "            longtitude = store.get_attribute(\"data-long\")\n",
    "            result.append((sido, name, address, tel, latitude, longtitude))\n",
    "    else:\n",
    "        driver.execute_script(\"document.querySelector('#mCSB_3').style.cssText = 'overflow: visible;'\")\n",
    "        time.sleep(10)\n",
    "        store_list = driver.find_elements(By.CSS_SELECTOR, \"#mCSB_3_container > ul > li\")\n",
    "        for store in store_list:\n",
    "            name = store.get_attribute(\"data-name\")\n",
    "            address_tel = store.find_element(By.TAG_NAME, \"p\").text.split(\"\\n\")\n",
    "            address = address_tel[0]\n",
    "            tel = address_tel[1]\n",
    "            latitude = store.get_attribute(\"data-lat\")\n",
    "            longtitude = store.get_attribute(\"data-long\")\n",
    "            result.append((sido, name, address, tel, latitude, longtitude))\n",
    "\n",
    "    driver.quit()"
   ]
  },
  {
   "cell_type": "code",
   "execution_count": 15,
   "metadata": {},
   "outputs": [],
   "source": [
    "# 데이터프레임 csv 파일로 저장\n",
    "\n",
    "df = pd.DataFrame(result, columns=[\"시도\", \"점포명\", \"주소\", \"전화번호\", \"위도\", \"경도\"])\n",
    "df.to_csv(\"../data/스타벅스 숙제.csv\", encoding=\"utf8\")"
   ]
  },
  {
   "cell_type": "code",
   "execution_count": 18,
   "metadata": {},
   "outputs": [],
   "source": [
    "# 결과물 데이터베이스에 저장\n",
    "conn = pymysql.connect(\n",
    "    host=\"localhost\",\n",
    "    user=\"jhm\",\n",
    "    password=\"1234\",\n",
    "    database=\"pydb\",\n",
    "    charset=\"utf8\"\n",
    ")\n",
    "c = conn.cursor()\n",
    "c.executemany(\n",
    "    \"INSERT INTO starbucks(sido, name, address, tel, latitude, longtitude) VALUES(%s, %s, %s, %s, %s, %s)\",\n",
    "    result\n",
    ")\n",
    "conn.commit()\n",
    "conn.close()"
   ]
  }
 ],
 "metadata": {
  "kernelspec": {
   "display_name": "Python 3",
   "language": "python",
   "name": "python3"
  },
  "language_info": {
   "codemirror_mode": {
    "name": "ipython",
    "version": 3
   },
   "file_extension": ".py",
   "mimetype": "text/x-python",
   "name": "python",
   "nbconvert_exporter": "python",
   "pygments_lexer": "ipython3",
   "version": "3.13.0"
  }
 },
 "nbformat": 4,
 "nbformat_minor": 2
}
