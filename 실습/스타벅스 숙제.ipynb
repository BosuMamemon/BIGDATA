{
 "cells": [
  {
   "cell_type": "code",
   "execution_count": null,
   "metadata": {},
   "outputs": [],
   "source": [
    "! pip install selenium\n",
    "! pip install pymysql"
   ]
  },
  {
   "cell_type": "code",
   "execution_count": null,
   "metadata": {},
   "outputs": [],
   "source": [
    "from selenium import webdriver\n",
    "from selenium.webdriver.common.by import By\n",
    "import time\n",
    "import pandas as pd\n",
    "import pymysql"
   ]
  },
  {
   "cell_type": "code",
   "execution_count": null,
   "metadata": {},
   "outputs": [],
   "source": [
    "# 결과 튜플 리스트\n",
    "result = []\n",
    "\n",
    "# 크롬으로 사이트 열기 (지역 검색까지)\n",
    "driver = webdriver.Chrome()\n",
    "driver.get(\"https://www.starbucks.co.kr/store/store_map.do\")\n",
    "driver.implicitly_wait(30)\n",
    "\n",
    "sido_list = [\"서울\", \"경기\", \"광주\", \"대구\", \"대전\", \"부산\", \"울산\", \"인천\", \"강원\", \"경남\", \"경북\", \"전남\", \"전북\", \"충남\", \"충북\", \"제주\", \"세종\"]\n",
    "\n",
    "# 시도별 점포 데이터 크롤링\n",
    "for sido in sido_list:\n",
    "    driver.find_element(By.LINK_TEXT, \"지역 검색\").click()\n",
    "    driver.implicitly_wait(30)\n",
    "    driver.find_element(By.LINK_TEXT, sido).click()\n",
    "    driver.implicitly_wait(30)\n",
    "    if sido != \"세종\":\n",
    "        driver.find_element(By.LINK_TEXT, \"전체\").click()\n",
    "        driver.execute_script(\"document.querySelector('#mCSB_3').style.cssText = 'overflow: visible;'\")\n",
    "        time.sleep(10)\n",
    "        store_list = driver.find_elements(By.CSS_SELECTOR, \"#mCSB_3_container > ul > li\")\n",
    "        for store in store_list:\n",
    "            name = store.get_attribute(\"data-name\")\n",
    "            address_tel = store.find_element(By.TAG_NAME, \"p\").text.split(\"\\n\")\n",
    "            address = address_tel[0]\n",
    "            tel = address_tel[1]\n",
    "            latitude = store.get_attribute(\"data-lat\")\n",
    "            longtitude = store.get_attribute(\"data-long\")\n",
    "            result.append((sido, name, address, tel, latitude, longtitude))\n",
    "    else:\n",
    "        driver.execute_script(\"document.querySelector('#mCSB_3').style.cssText = 'overflow: visible;'\")\n",
    "        time.sleep(10)\n",
    "        store_list = driver.find_elements(By.CSS_SELECTOR, \"#mCSB_3_container > ul > li\")\n",
    "        for store in store_list:\n",
    "            name = store.get_attribute(\"data-name\")\n",
    "            address_tel = store.find_element(By.TAG_NAME, \"p\").text.split(\"\\n\")\n",
    "            address = address_tel[0]\n",
    "            tel = address_tel[1]\n",
    "            latitude = store.get_attribute(\"data-lat\")\n",
    "            longtitude = store.get_attribute(\"data-long\")\n",
    "            result.append((sido, name, address, tel, latitude, longtitude))\n",
    "\n",
    "    driver.quit()"
   ]
  },
  {
   "cell_type": "code",
   "execution_count": null,
   "metadata": {},
   "outputs": [],
   "source": [
    "# 데이터프레임 csv 파일로 저장\n",
    "\n",
    "df = pd.DataFrame(result, columns=[\"시도\", \"점포명\", \"주소\", \"전화번호\", \"위도\", \"경도\"])\n",
    "df.to_csv(\"../data/스타벅스 숙제.csv\", encoding=\"utf8\")"
   ]
  },
  {
   "cell_type": "code",
   "execution_count": null,
   "metadata": {},
   "outputs": [],
   "source": [
    "# 결과물 데이터베이스에 저장\n",
    "conn = pymysql.connect(\n",
    "    host=\"localhost\",\n",
    "    user=\"jhm\",\n",
    "    password=\"1234\",\n",
    "    database=\"pydb\",\n",
    "    charset=\"utf8\"\n",
    ")\n",
    "c = conn.cursor()\n",
    "c.executemany(\n",
    "    \"INSERT INTO starbucks(sido, name, address, tel, latitude, longtitude) VALUES(%s, %s, %s, %s, %s, %s)\",\n",
    "    result\n",
    ")\n",
    "conn.commit()\n",
    "conn.close()"
   ]
  }
 ],
 "metadata": {
  "kernelspec": {
   "display_name": "base",
   "language": "python",
   "name": "python3"
  },
  "language_info": {
   "codemirror_mode": {
    "name": "ipython",
    "version": 3
   },
   "file_extension": ".py",
   "mimetype": "text/x-python",
   "name": "python",
   "nbconvert_exporter": "python",
   "pygments_lexer": "ipython3",
   "version": "3.12.7"
  }
 },
 "nbformat": 4,
 "nbformat_minor": 2
}
